{
 "cells": [
  {
   "cell_type": "code",
   "execution_count": 1,
   "metadata": {},
   "outputs": [
    {
     "name": "stderr",
     "output_type": "stream",
     "text": [
      "\n",
      "Attaching package: ‘dplyr’\n",
      "\n",
      "The following objects are masked from ‘package:stats’:\n",
      "\n",
      "    filter, lag\n",
      "\n",
      "The following objects are masked from ‘package:base’:\n",
      "\n",
      "    intersect, setdiff, setequal, union\n",
      "\n",
      "Loading required package: Formula\n",
      "Loading required package: rgl\n"
     ]
    }
   ],
   "source": [
    "library(Seurat)\n",
    "library(dplyr)\n",
    "library(ggplot2)\n",
    "library(DirichletReg)\n",
    "\n",
    "set.seed(47)\n",
    "setwd(\"~/Dropbox (MIT)/Zambia/\")\n",
    "options(repr.plot.width = 8, repr.plot.height = 8)\n",
    "source(\"helper_scripts/plot_cluster_meta_percentage.R\")\n",
    "library(RColorBrewer)\n",
    "cell_color_scheme = c(brewer.pal(n = 8, name = \"Set2\"),brewer.pal(n = 9, name = \"Set1\"),brewer.pal(n = 8, name = \"Set3\"))\n",
    "# patient_color_scheme = readRDS(\"color_palette/cell_color_scheme.rdds\")\n",
    "setwd(\"~/Dropbox (MIT)/Zambia/reseq_analysis/\")"
   ]
  },
  {
   "cell_type": "code",
   "execution_count": 5,
   "metadata": {},
   "outputs": [],
   "source": [
    "combined = readRDS(\"combined_iterate_jan13.rds\")"
   ]
  },
  {
   "cell_type": "code",
   "execution_count": 6,
   "metadata": {},
   "outputs": [],
   "source": [
    "comb_zambia = subset(combined,study%in%c(\"EE\"))\n",
    "comb_zambia$region = factor(comb_zambia$region, levels = c(\"Duodenum\", \"Bulb\", \"Jejunum\"))"
   ]
  },
  {
   "cell_type": "markdown",
   "metadata": {},
   "source": [
    "Fischer's exact leave-one out testing still makes the most sense to me as the way to go"
   ]
  },
  {
   "cell_type": "code",
   "execution_count": 7,
   "metadata": {},
   "outputs": [],
   "source": [
    "hiv_colors = c(\"#9c954d\",\"#b067a3\")\n",
    "disease_colors = readRDS(\"disease_colors.rds\")\n",
    "region_colors = readRDS(\"region_colors.rds\")"
   ]
  },
  {
   "cell_type": "code",
   "execution_count": 8,
   "metadata": {},
   "outputs": [
    {
     "name": "stdout",
     "output_type": "stream",
     "text": [
      "[1] 1\n",
      "[1] 2\n",
      "[1] 3\n",
      "[1] 4\n",
      "[1] 5\n",
      "[1] 6\n",
      "[1] 7\n",
      "[1] 8\n",
      "[1] 9\n",
      "[1] 10\n",
      "[1] 11\n",
      "[1] 12\n",
      "[1] 13\n",
      "[1] 14\n",
      "[1] 15\n",
      "[1] 16\n",
      "[1] 17\n",
      "[1] 18\n",
      "[1] 19\n"
     ]
    }
   ],
   "source": [
    "Idents(comb_zambia) <- \"tier4\"\n",
    "s_obj = subset(comb_zambia,HIV.HTLV.==\"N\")\n",
    "s_obj$cell_types = s_obj$tier4\n",
    "all_counts = generate_all_counts(s_obj@meta.data)\n",
    "\n",
    "sample_all_counts = generate_counts_by_sample(all_counts)\n",
    "sample_meta = generate_sample_meta(s_obj@meta.data)\n",
    "sample_meta = sample_meta[order(sample_meta$orig.ident),]\n",
    "sample_all_counts = cbind(sample_all_counts, region=sample_meta$region)\n",
    "\n",
    "fischer_bulb = run_fischer(s_obj,\"region\",\"Bulb\",s_obj$tier4)\n",
    "fischer_duodenum = run_fischer(s_obj,\"region\",\"Duodenum\",s_obj$tier4)\n",
    "fischer_jejunem = run_fischer(s_obj,\"region\",\"Jejunum\",s_obj$tier4)\n",
    "\n",
    "pvals_bulb = matrix(rep(1,nrow(sample_all_counts)*length(unique(s_obj$cell_types))),\n",
    "                  nrow=nrow(sample_all_counts),\n",
    "                  ncol=length(unique(s_obj$cell_types)))\n",
    "colnames(pvals_bulb) <- fischer_bulb$clusters\n",
    "pvals_duodenum = matrix(rep(1,nrow(sample_all_counts)*length(unique(s_obj$cell_types))),\n",
    "                  nrow=nrow(sample_all_counts),\n",
    "                  ncol=length(unique(s_obj$cell_types)))\n",
    "colnames(pvals_duodenum) <- fischer_duodenum$clusters\n",
    "pvals_jejunem = matrix(rep(1,nrow(sample_all_counts)*length(unique(s_obj$cell_types))),\n",
    "                  nrow=nrow(sample_all_counts),\n",
    "                  ncol=length(unique(s_obj$cell_types)))\n",
    "colnames(pvals_jejunem) <- fischer_jejunem$clusters\n",
    "\n",
    "signs_bulb = matrix(rep(1,nrow(sample_all_counts)*length(unique(s_obj$cell_types))),\n",
    "                  nrow=nrow(sample_all_counts),\n",
    "                  ncol=length(unique(s_obj$cell_types)))\n",
    "colnames(signs_bulb) <- fischer_bulb$clusters\n",
    "signs_duodenum = matrix(rep(1,nrow(sample_all_counts)*length(unique(s_obj$cell_types))),\n",
    "                  nrow=nrow(sample_all_counts),\n",
    "                  ncol=length(unique(s_obj$cell_types)))\n",
    "colnames(signs_duodenum) <- fischer_duodenum$clusters\n",
    "signs_jejunem = matrix(rep(1,nrow(sample_all_counts)*length(unique(s_obj$cell_types))),\n",
    "                  nrow=nrow(sample_all_counts),\n",
    "                  ncol=length(unique(s_obj$cell_types)))\n",
    "colnames(signs_jejunem) <- fischer_jejunem$clusters\n",
    "\n",
    "for(i in 1:length(unique(s_obj$orig.ident))){\n",
    "    print(i)\n",
    "    temp = subset(s_obj, orig.ident!=unique(s_obj$orig.ident)[i])\n",
    "\n",
    "    pval_table_bulb = run_fischer(temp,\"region\",\"Bulb\",temp$tier4)\n",
    "    pval_table_duodenum = run_fischer(temp,\"region\",\"Duodenum\",temp$tier4)\n",
    "    pval_table_jejunem = run_fischer(temp,\"region\",\"Jejunum\",temp$tier4)\n",
    "\n",
    "    sign_table_bulb = run_fischer(temp,\"region\",\"Bulb\",temp$tier4)\n",
    "    sign_table_duodenum = run_fischer(temp,\"region\",\"Duodenum\",temp$tier4)\n",
    "    sign_table_jejunem = run_fischer(temp,\"region\",\"Jejunum\",temp$tier4)\n",
    "\n",
    "    for(j in 1:nrow(pval_table_bulb)){\n",
    "        pvals_bulb[i,colnames(pvals_bulb)==pval_table_bulb$clusters[j]] = pval_table_bulb$adj_pval[j]\n",
    "        pvals_duodenum[i,colnames(pvals_duodenum)==pval_table_duodenum$clusters[j]] = pval_table_duodenum$adj_pval[j]\n",
    "        pvals_jejunem[i,colnames(pvals_jejunem)==pval_table_jejunem$clusters[j]] = pval_table_jejunem$adj_pval[j]\n",
    "\n",
    "        signs_bulb[i,colnames(signs_bulb)==sign_table_bulb$clusters[j]] = sign_table_bulb$sign[j]\n",
    "        signs_duodenum[i,colnames(signs_duodenum)==sign_table_duodenum$clusters[j]] = sign_table_duodenum$sign[j]\n",
    "        signs_jejunem[i,colnames(signs_jejunem)==sign_table_jejunem$clusters[j]] = sign_table_jejunem$sign[j]\n",
    "\n",
    "    }\n",
    "  \n",
    "}"
   ]
  },
  {
   "cell_type": "code",
   "execution_count": 9,
   "metadata": {},
   "outputs": [],
   "source": [
    "same_sign = function(x){\n",
    "    total = sum(x > 0)\n",
    "    if(total ==0 ){\n",
    "        return(TRUE)\n",
    "        \n",
    "    }else if(total==length(x)){\n",
    "        return(TRUE)\n",
    "    }\n",
    "    else{\n",
    "        return(FALSE)\n",
    "    }\n",
    "}\n",
    "get_max_pvals = function(pvals,signs){\n",
    "    max_pvals = apply(pvals,2,max)\n",
    "    same_signs = apply(signs,2,same_sign)\n",
    "    max_pvals = max_pvals[same_signs]\n",
    "    return(data.frame(max_adj_pvals=max_pvals))\n",
    "}\n",
    "\n",
    "max_pvals_bulb = get_max_pvals(pvals_bulb,signs_bulb)\n",
    "max_pvals_bulb$cell_types = rownames(max_pvals_bulb)\n",
    "max_pvals_duodenum = get_max_pvals(pvals_duodenum,signs_duodenum)\n",
    "max_pvals_duodenum$cell_types = rownames(max_pvals_duodenum)\n",
    "max_pvals_jejunum = get_max_pvals(pvals_jejunem,signs_jejunem)\n",
    "max_pvals_jejunum$cell_types = rownames(max_pvals_jejunum)"
   ]
  },
  {
   "cell_type": "code",
   "execution_count": 33,
   "metadata": {},
   "outputs": [],
   "source": [
    "saveRDS(max_pvals_bulb,\"composition/hiv_neg_only_bulb_jan19.rds\")\n",
    "saveRDS(max_pvals_duodenum,\"composition/hiv_neg_only_duodenum_jan19.rds\")\n",
    "saveRDS(max_pvals_jejunum,\"composition/hiv_neg_only_jejunum_jan19.rds\")\n"
   ]
  },
  {
   "cell_type": "code",
   "execution_count": 10,
   "metadata": {},
   "outputs": [],
   "source": [
    "max_pvals_bulb = readRDS(\"composition/hiv_neg_only_bulb_jan19.rds\")\n",
    "max_pvals_duodenum = readRDS(\"composition/hiv_neg_only_duodenum_jan19.rds\")\n",
    "max_pvals_jejunum = readRDS(\"composition/hiv_neg_only_jejunum_jan19.rds\")\n"
   ]
  },
  {
   "cell_type": "code",
   "execution_count": 18,
   "metadata": {},
   "outputs": [
    {
     "data": {
      "text/html": [
       "<table>\n",
       "<caption>A data.frame: 12 × 2</caption>\n",
       "<thead>\n",
       "\t<tr><th scope=col>max_adj_pvals</th><th scope=col>cell_types</th></tr>\n",
       "\t<tr><th scope=col>&lt;dbl&gt;</th><th scope=col>&lt;chr&gt;</th></tr>\n",
       "</thead>\n",
       "<tbody>\n",
       "\t<tr><td>1.599563e-02</td><td>BEST4                </td></tr>\n",
       "\t<tr><td>4.833588e-02</td><td>Endothelial          </td></tr>\n",
       "\t<tr><td>1.007273e-03</td><td>Ent SI               </td></tr>\n",
       "\t<tr><td>1.844110e-02</td><td>Epi DPCR1 TFF1       </td></tr>\n",
       "\t<tr><td>1.030953e-05</td><td>Epi FABP1 CD55       </td></tr>\n",
       "\t<tr><td>2.373984e-05</td><td>Epi LYZ TFF2         </td></tr>\n",
       "\t<tr><td>1.985419e-02</td><td>Goblet               </td></tr>\n",
       "\t<tr><td>5.134115e-18</td><td>Stem OLFM4           </td></tr>\n",
       "\t<tr><td>4.744092e-06</td><td>T CD4 CD69lo         </td></tr>\n",
       "\t<tr><td>1.125749e-07</td><td>T gamma delta CXCR4hi</td></tr>\n",
       "\t<tr><td>1.077651e-04</td><td>T gamma delta GZMAhi </td></tr>\n",
       "\t<tr><td>4.454715e-08</td><td>T MT                 </td></tr>\n",
       "</tbody>\n",
       "</table>\n"
      ],
      "text/latex": [
       "A data.frame: 12 × 2\n",
       "\\begin{tabular}{r|ll}\n",
       " max\\_adj\\_pvals & cell\\_types\\\\\n",
       " <dbl> & <chr>\\\\\n",
       "\\hline\n",
       "\t 1.599563e-02 & BEST4                \\\\\n",
       "\t 4.833588e-02 & Endothelial          \\\\\n",
       "\t 1.007273e-03 & Ent SI               \\\\\n",
       "\t 1.844110e-02 & Epi DPCR1 TFF1       \\\\\n",
       "\t 1.030953e-05 & Epi FABP1 CD55       \\\\\n",
       "\t 2.373984e-05 & Epi LYZ TFF2         \\\\\n",
       "\t 1.985419e-02 & Goblet               \\\\\n",
       "\t 5.134115e-18 & Stem OLFM4           \\\\\n",
       "\t 4.744092e-06 & T CD4 CD69lo         \\\\\n",
       "\t 1.125749e-07 & T gamma delta CXCR4hi\\\\\n",
       "\t 1.077651e-04 & T gamma delta GZMAhi \\\\\n",
       "\t 4.454715e-08 & T MT                 \\\\\n",
       "\\end{tabular}\n"
      ],
      "text/markdown": [
       "\n",
       "A data.frame: 12 × 2\n",
       "\n",
       "| max_adj_pvals &lt;dbl&gt; | cell_types &lt;chr&gt; |\n",
       "|---|---|\n",
       "| 1.599563e-02 | BEST4                 |\n",
       "| 4.833588e-02 | Endothelial           |\n",
       "| 1.007273e-03 | Ent SI                |\n",
       "| 1.844110e-02 | Epi DPCR1 TFF1        |\n",
       "| 1.030953e-05 | Epi FABP1 CD55        |\n",
       "| 2.373984e-05 | Epi LYZ TFF2          |\n",
       "| 1.985419e-02 | Goblet                |\n",
       "| 5.134115e-18 | Stem OLFM4            |\n",
       "| 4.744092e-06 | T CD4 CD69lo          |\n",
       "| 1.125749e-07 | T gamma delta CXCR4hi |\n",
       "| 1.077651e-04 | T gamma delta GZMAhi  |\n",
       "| 4.454715e-08 | T MT                  |\n",
       "\n"
      ],
      "text/plain": [
       "   max_adj_pvals cell_types           \n",
       "1  1.599563e-02  BEST4                \n",
       "2  4.833588e-02  Endothelial          \n",
       "3  1.007273e-03  Ent SI               \n",
       "4  1.844110e-02  Epi DPCR1 TFF1       \n",
       "5  1.030953e-05  Epi FABP1 CD55       \n",
       "6  2.373984e-05  Epi LYZ TFF2         \n",
       "7  1.985419e-02  Goblet               \n",
       "8  5.134115e-18  Stem OLFM4           \n",
       "9  4.744092e-06  T CD4 CD69lo         \n",
       "10 1.125749e-07  T gamma delta CXCR4hi\n",
       "11 1.077651e-04  T gamma delta GZMAhi \n",
       "12 4.454715e-08  T MT                 "
      ]
     },
     "metadata": {},
     "output_type": "display_data"
    }
   ],
   "source": [
    "max_pvals_bulb %>% filter(max_adj_pvals< 0.05)"
   ]
  },
  {
   "cell_type": "code",
   "execution_count": null,
   "metadata": {},
   "outputs": [],
   "source": []
  },
  {
   "cell_type": "code",
   "execution_count": 11,
   "metadata": {},
   "outputs": [],
   "source": [
    "distinct_tier4 = distinct_at(comb_zambia@meta.data,vars(tier1,tier4))"
   ]
  },
  {
   "cell_type": "code",
   "execution_count": 12,
   "metadata": {},
   "outputs": [
    {
     "name": "stderr",
     "output_type": "stream",
     "text": [
      "Joining, by = \"cell_types\"Warning message:\n",
      "“Column `cell_types` joining character vector and factor, coercing into character vector”Joining, by = \"cell_types\"Warning message:\n",
      "“Column `cell_types` joining character vector and factor, coercing into character vector”Joining, by = \"cell_types\"Warning message:\n",
      "“Column `cell_types` joining character vector and factor, coercing into character vector”"
     ]
    }
   ],
   "source": [
    "fischer_jejunum = fischer_jejunem\n",
    "sig_bulb = max_pvals_bulb %>% filter(max_adj_pvals < 0.05)\n",
    "fischer_bulb$cell_types = fischer_bulb$clusters\n",
    "enriched_bulb = left_join(sig_bulb,fischer_bulb) %>% filter(sign==1)\n",
    "\n",
    "sig_duodenum = max_pvals_duodenum %>% filter(max_adj_pvals < 0.05)\n",
    "fischer_duodenum$cell_types = fischer_duodenum$clusters\n",
    "enriched_duodenum = left_join(sig_duodenum,fischer_duodenum) %>% filter(sign==1)\n",
    "\n",
    "sig_jejunum = max_pvals_jejunum %>% filter(max_adj_pvals < 0.05)\n",
    "fischer_jejunum$cell_types = fischer_jejunum$clusters\n",
    "enriched_jejunum = left_join(sig_jejunum,fischer_jejunum) %>% filter(sign==1)\n",
    "\n",
    "get_region = function(orig){\n",
    "    reg = substr(orig,nchar(orig),nchar(orig)+1)\n",
    "    if(reg==\"B\"){\n",
    "        return(\"Bulb\")\n",
    "    }\n",
    "    if(reg==\"D\"){\n",
    "        return(\"Duodenum\")\n",
    "    }\n",
    "    if(reg==\"J\"){\n",
    "        return(\"Jejunum\")\n",
    "    }\n",
    "}\n",
    "regions = sapply(all_counts$orig.ident,get_region)\n",
    "all_counts$region = regions\n",
    "\n",
    "bulb_cells = enriched_bulb$cell_types\n",
    "duodenum_cells = enriched_duodenum$cell_types\n",
    "jejunum_cells = enriched_jejunum$cell_types\n",
    "\n",
    "bulb_cells_unique = bulb_cells[!(bulb_cells %in% c(duodenum_cells,jejunum_cells))]\n",
    "duodenum_cells_unique = duodenum_cells[!(duodenum_cells %in% c(bulb_cells,jejunum_cells))]\n",
    "jejunum_cells_unique = jejunum_cells[!(jejunum_cells %in% c(bulb_cells,duodenum_cells))]"
   ]
  },
  {
   "cell_type": "code",
   "execution_count": 13,
   "metadata": {},
   "outputs": [
    {
     "data": {
      "text/html": [
       "<table>\n",
       "<caption>A data.frame: 3 × 5</caption>\n",
       "<thead>\n",
       "\t<tr><th scope=col>max_adj_pvals</th><th scope=col>cell_types</th><th scope=col>clusters</th><th scope=col>adj_pval</th><th scope=col>sign</th></tr>\n",
       "\t<tr><th scope=col>&lt;dbl&gt;</th><th scope=col>&lt;chr&gt;</th><th scope=col>&lt;fct&gt;</th><th scope=col>&lt;dbl&gt;</th><th scope=col>&lt;dbl&gt;</th></tr>\n",
       "</thead>\n",
       "<tbody>\n",
       "\t<tr><td>4.833588e-02</td><td>Endothelial          </td><td>Endothelial          </td><td>2.807658e-07</td><td>1</td></tr>\n",
       "\t<tr><td>1.125749e-07</td><td>T gamma delta CXCR4hi</td><td>T gamma delta CXCR4hi</td><td>4.042928e-15</td><td>1</td></tr>\n",
       "\t<tr><td>1.077651e-04</td><td>T gamma delta GZMAhi </td><td>T gamma delta GZMAhi </td><td>6.191928e-21</td><td>1</td></tr>\n",
       "</tbody>\n",
       "</table>\n"
      ],
      "text/latex": [
       "A data.frame: 3 × 5\n",
       "\\begin{tabular}{r|lllll}\n",
       " max\\_adj\\_pvals & cell\\_types & clusters & adj\\_pval & sign\\\\\n",
       " <dbl> & <chr> & <fct> & <dbl> & <dbl>\\\\\n",
       "\\hline\n",
       "\t 4.833588e-02 & Endothelial           & Endothelial           & 2.807658e-07 & 1\\\\\n",
       "\t 1.125749e-07 & T gamma delta CXCR4hi & T gamma delta CXCR4hi & 4.042928e-15 & 1\\\\\n",
       "\t 1.077651e-04 & T gamma delta GZMAhi  & T gamma delta GZMAhi  & 6.191928e-21 & 1\\\\\n",
       "\\end{tabular}\n"
      ],
      "text/markdown": [
       "\n",
       "A data.frame: 3 × 5\n",
       "\n",
       "| max_adj_pvals &lt;dbl&gt; | cell_types &lt;chr&gt; | clusters &lt;fct&gt; | adj_pval &lt;dbl&gt; | sign &lt;dbl&gt; |\n",
       "|---|---|---|---|---|\n",
       "| 4.833588e-02 | Endothelial           | Endothelial           | 2.807658e-07 | 1 |\n",
       "| 1.125749e-07 | T gamma delta CXCR4hi | T gamma delta CXCR4hi | 4.042928e-15 | 1 |\n",
       "| 1.077651e-04 | T gamma delta GZMAhi  | T gamma delta GZMAhi  | 6.191928e-21 | 1 |\n",
       "\n"
      ],
      "text/plain": [
       "  max_adj_pvals cell_types            clusters              adj_pval     sign\n",
       "1 4.833588e-02  Endothelial           Endothelial           2.807658e-07 1   \n",
       "2 1.125749e-07  T gamma delta CXCR4hi T gamma delta CXCR4hi 4.042928e-15 1   \n",
       "3 1.077651e-04  T gamma delta GZMAhi  T gamma delta GZMAhi  6.191928e-21 1   "
      ]
     },
     "metadata": {},
     "output_type": "display_data"
    }
   ],
   "source": [
    "enriched_bulb"
   ]
  },
  {
   "cell_type": "code",
   "execution_count": null,
   "metadata": {},
   "outputs": [],
   "source": [
    "pdf(\"~/zambia_eed_figures/supp_stricture_region_hiv/hiv_neg_region_bulb_enriched.pdf\",useDingbats = F,height=6)\n",
    "\n",
    "ggplot(all_counts %>% filter(cell_types %in% bulb_cells_unique),aes(x=cell_types,y=percent_of_sample,fill=region)) + geom_boxplot() +\n",
    "   # geom_dotplot(binaxis='y', stackdir='center', dotsize=0.3,position=position_dodge(0.8)) +\n",
    "    theme_classic() +\n",
    "    theme(text = element_text(size=20),axis.text.x = element_blank(),  panel.border = element_blank(),  \n",
    "  # Remove panel grid lines\n",
    "  panel.grid.major = element_blank(),\n",
    "  panel.grid.minor = element_blank(),\n",
    "  legend.position=\"top\",\n",
    "  # Remove panel background\n",
    "  panel.background = element_blank()) +\n",
    "    ggtitle(\"Duodenal bulb enriched cell types\") + xlab(\"\") + ylab(\"Fraction of all cells in sample\") +scale_fill_manual(values=region_colors) \n",
    "\n",
    "dev.off()\n",
    "\n",
    "pdf(\"~/zambia_eed_figures/supp_stricture_region_hiv/hiv_neg_region_bulb_enrichedxlab.pdf\",useDingbats = F,height=6)\n",
    "\n",
    "ggplot(all_counts %>% filter(cell_types %in% bulb_cells_unique),aes(x=cell_types,y=percent_of_sample,fill=region)) + geom_boxplot() +\n",
    "   # geom_dotplot(binaxis='y', stackdir='center', dotsize=0.3,position=position_dodge(0.8)) +\n",
    "    theme_classic() +\n",
    "    theme(text = element_text(size=20),axis.text.x = element_text(angle = 45, hjust = 1),  panel.border = element_blank(),  \n",
    "  # Remove panel grid lines\n",
    "  panel.grid.major = element_blank(),\n",
    "  panel.grid.minor = element_blank(),\n",
    "  legend.position=\"top\",\n",
    "  # Remove panel background\n",
    "  panel.background = element_blank()) +\n",
    "    ggtitle(\"Duodenal bulb enriched cell types\") + xlab(\"\") + ylab(\"Fraction of all cells in sample\") +scale_fill_manual(values=region_colors) \n",
    "\n",
    "dev.off()\n",
    "\n",
    "pdf(\"~/zambia_eed_figures/supp_stricture_region_hiv/hiv_neg_region_duodenum_enriched.pdf\",useDingbats = F,height=6)\n",
    "\n",
    "ggplot(all_counts %>% filter(cell_types %in% duodenum_cells_unique),aes(x=cell_types,y=percent_of_sample,fill=region)) + geom_boxplot() +\n",
    "   # geom_dotplot(binaxis='y', stackdir='center', dotsize=0.3,position=position_dodge(0.8)) +\n",
    "    theme_classic() +\n",
    "    theme(text = element_text(size=20),axis.text.x = element_blank(),  panel.border = element_blank(),  \n",
    "  # Remove panel grid lines\n",
    "  panel.grid.major = element_blank(),\n",
    "  panel.grid.minor = element_blank(),\n",
    "  legend.position=\"top\",\n",
    "  # Remove panel background\n",
    "  panel.background = element_blank()) +\n",
    "    ggtitle(\"Distal duodenum enriched cell types\") + xlab(\"\") + ylab(\"Fraction of all cells in sample\") +scale_fill_manual(values=region_colors) \n",
    "\n",
    "dev.off()\n",
    "\n",
    "pdf(\"~/zambia_eed_figures/supp_stricture_region_hiv/hiv_neg_region_duodenum_enrichedxlab.pdf\",useDingbats = F,height=6)\n",
    "\n",
    "ggplot(all_counts %>% filter(cell_types %in% duodenum_cells_unique),aes(x=cell_types,y=percent_of_sample,fill=region)) + geom_boxplot() +\n",
    "   # geom_dotplot(binaxis='y', stackdir='center', dotsize=0.3,position=position_dodge(0.8)) +\n",
    "    theme_classic() +\n",
    "    theme(text = element_text(size=20),axis.text.x = element_text(angle = 45, hjust = 1),  panel.border = element_blank(),  \n",
    "  # Remove panel grid lines\n",
    "  panel.grid.major = element_blank(),\n",
    "  panel.grid.minor = element_blank(),\n",
    "  legend.position=\"top\",\n",
    "  # Remove panel background\n",
    "  panel.background = element_blank()) +\n",
    "    ggtitle(\"Distal duodenum enriched cell types\") + xlab(\"\") + ylab(\"Fraction of all cells in sample\") +scale_fill_manual(values=region_colors) \n",
    "\n",
    "dev.off()\n",
    "\n",
    "pdf(\"~/zambia_eed_figures/supp_stricture_region_hiv/hiv_neg_region_jejunum_enriched.pdf\",useDingbats = F,height=6)\n",
    "\n",
    "ggplot(all_counts %>% filter(cell_types %in% jejunum_cells_unique),aes(x=cell_types,y=percent_of_sample,fill=region)) + geom_boxplot() +\n",
    "   # geom_dotplot(binaxis='y', stackdir='center', dotsize=0.3,position=position_dodge(0.8)) +\n",
    "    theme_classic() +\n",
    "    theme(text = element_text(size=20),axis.text.x = element_blank(),  panel.border = element_blank(),  \n",
    "  # Remove panel grid lines\n",
    "  panel.grid.major = element_blank(),\n",
    "  panel.grid.minor = element_blank(),\n",
    "  legend.position=\"top\",\n",
    "  # Remove panel background\n",
    "  panel.background = element_blank()) +\n",
    "    ggtitle(\"Jejunum enriched cell types\") + xlab(\"\") + ylab(\"Fraction of all cells in sample\") +scale_fill_manual(values=region_colors) \n",
    "\n",
    "dev.off()\n",
    "\n",
    "pdf(\"~/zambia_eed_figures/supp_stricture_region_hiv/hiv_neg_region_jejunum_enrichedxlab.pdf\",useDingbats = F,height=6)\n",
    "\n",
    "ggplot(all_counts %>% filter(cell_types %in% jejunum_cells_unique),aes(x=cell_types,y=percent_of_sample,fill=region)) + geom_boxplot() +\n",
    "   # geom_dotplot(binaxis='y', stackdir='center', dotsize=0.3,position=position_dodge(0.8)) +\n",
    "    theme_classic() +\n",
    "    theme(text = element_text(size=20),axis.text.x = element_text(angle = 45, hjust = 1),  panel.border = element_blank(),  \n",
    "  # Remove panel grid lines\n",
    "  panel.grid.major = element_blank(),\n",
    "  panel.grid.minor = element_blank(),\n",
    "  legend.position=\"top\",\n",
    "  # Remove panel background\n",
    "  panel.background = element_blank()) +\n",
    "    ggtitle(\"Jejunum enriched cell types\") + xlab(\"\") + ylab(\"Fraction of all cells in sample\") +scale_fill_manual(values=region_colors) \n",
    "\n",
    "dev.off()"
   ]
  }
 ],
 "metadata": {
  "kernelspec": {
   "display_name": "R",
   "language": "R",
   "name": "ir"
  },
  "language_info": {
   "codemirror_mode": "r",
   "file_extension": ".r",
   "mimetype": "text/x-r-source",
   "name": "R",
   "pygments_lexer": "r",
   "version": "3.6.1"
  }
 },
 "nbformat": 4,
 "nbformat_minor": 4
}

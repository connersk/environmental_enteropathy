{
 "cells": [
  {
   "cell_type": "code",
   "execution_count": 1,
   "metadata": {},
   "outputs": [
    {
     "name": "stderr",
     "output_type": "stream",
     "text": [
      "\n",
      "Attaching package: ‘dplyr’\n",
      "\n",
      "The following objects are masked from ‘package:stats’:\n",
      "\n",
      "    filter, lag\n",
      "\n",
      "The following objects are masked from ‘package:base’:\n",
      "\n",
      "    intersect, setdiff, setequal, union\n",
      "\n",
      "Loading required package: Formula\n",
      "Loading required package: rgl\n"
     ]
    }
   ],
   "source": [
    "library(Seurat)\n",
    "library(dplyr)\n",
    "library(ggplot2)\n",
    "library(DirichletReg)\n",
    "\n",
    "set.seed(47)\n",
    "setwd(\"~/Dropbox (MIT)/Zambia/\")\n",
    "options(repr.plot.width = 8, repr.plot.height = 8)\n",
    "source(\"helper_scripts/plot_cluster_meta_percentage.R\")\n",
    "library(RColorBrewer)\n",
    "cell_color_scheme = c(brewer.pal(n = 8, name = \"Set2\"),brewer.pal(n = 9, name = \"Set1\"),brewer.pal(n = 8, name = \"Set3\"))\n",
    "# patient_color_scheme = readRDS(\"color_palette/cell_color_scheme.rdds\")\n",
    "setwd(\"~/Dropbox (MIT)/Zambia/reseq_analysis/\")"
   ]
  },
  {
   "cell_type": "code",
   "execution_count": 2,
   "metadata": {},
   "outputs": [],
   "source": [
    "combined = readRDS(\"combined_iterate_jan13.rds\")"
   ]
  },
  {
   "cell_type": "code",
   "execution_count": 3,
   "metadata": {},
   "outputs": [],
   "source": [
    "comb_zambia = subset(combined,study%in%c(\"EE\"))\n",
    "comb_zambia$region = factor(comb_zambia$region, levels = c(\"Duodenum\", \"Bulb\", \"Jejunum\"))"
   ]
  },
  {
   "cell_type": "code",
   "execution_count": 4,
   "metadata": {},
   "outputs": [],
   "source": [
    "hiv_colors = c(\"#9c954d\",\"#b067a3\")\n",
    "disease_colors = readRDS(\"disease_colors.rds\")\n",
    "region_colors = readRDS(\"region_colors.rds\")"
   ]
  },
  {
   "cell_type": "markdown",
   "metadata": {},
   "source": [
    "# Looking at HIV within only duodenal bulb samples"
   ]
  },
  {
   "cell_type": "code",
   "execution_count": 6,
   "metadata": {
    "collapsed": true,
    "jupyter": {
     "outputs_hidden": true
    }
   },
   "outputs": [
    {
     "name": "stdout",
     "output_type": "stream",
     "text": [
      "[1] 1\n",
      "[1] 2\n",
      "[1] 3\n",
      "[1] 4\n",
      "[1] 5\n",
      "[1] 6\n",
      "[1] 7\n",
      "[1] 8\n",
      "[1] 9\n",
      "[1] 10\n",
      "[1] 11\n"
     ]
    }
   ],
   "source": [
    "Idents(comb_zambia) <- \"tier4\"\n",
    "s_obj = subset(comb_zambia,region==\"Bulb\")\n",
    "s_obj$cell_types = s_obj$tier4\n",
    "\n",
    "all_counts = generate_all_counts(s_obj@meta.data)\n",
    "\n",
    "sample_all_counts = generate_counts_by_sample(all_counts)\n",
    "sample_meta = generate_sample_meta(s_obj@meta.data)\n",
    "sample_meta = sample_meta[order(sample_meta$orig.ident),]\n",
    "sample_all_counts = cbind(sample_all_counts, HIV.HTLV.=sample_meta$HIV.HTLV)\n",
    "\n",
    "fischer_hiv = run_fischer(s_obj,\"HIV.HTLV.\",\"Y\",s_obj$tier4)\n",
    "pvals_hiv = matrix(rep(1,nrow(sample_all_counts)*length(unique(s_obj$cell_types))),\n",
    "                  nrow=nrow(sample_all_counts),\n",
    "                  ncol=length(unique(s_obj$cell_types)))\n",
    "colnames(pvals_hiv) <- fischer_hiv$clusters\n",
    "signs_hiv = matrix(rep(1,nrow(sample_all_counts)*length(unique(s_obj$cell_types))),\n",
    "                  nrow=nrow(sample_all_counts),\n",
    "                  ncol=length(unique(s_obj$cell_types)))\n",
    "colnames(signs_hiv) <- fischer_hiv$clusters\n",
    "\n",
    "for(i in 1:length(unique(s_obj$orig.ident))){\n",
    "    print(i)\n",
    "    temp = subset(s_obj, orig.ident!=unique(s_obj$orig.ident)[i])\n",
    "    pval_table_hiv = run_fischer(temp,\"HIV.HTLV.\",\"Y\",temp$tier4)\n",
    "    sign_table_hiv = run_fischer(temp,\"HIV.HTLV.\",\"Y\",temp$tier4)\n",
    "    \n",
    "    for(j in 1:nrow(pval_table_hiv)){\n",
    "        pvals_hiv[i,colnames(pvals_hiv)==pval_table_hiv$clusters[j]] = pval_table_hiv$adj_pval[j]\n",
    "        signs_hiv[i,colnames(signs_hiv)==sign_table_hiv$clusters[j]] = sign_table_hiv$sign[j]\n",
    "    }\n",
    "}\n",
    "\n"
   ]
  },
  {
   "cell_type": "code",
   "execution_count": 5,
   "metadata": {},
   "outputs": [
    {
     "ename": "ERROR",
     "evalue": "Error in apply(pvals, 2, max): object 'pvals_hiv' not found\n",
     "output_type": "error",
     "traceback": [
      "Error in apply(pvals, 2, max): object 'pvals_hiv' not found\nTraceback:\n",
      "1. get_max_pvals(pvals_hiv, signs_hiv)",
      "2. apply(pvals, 2, max)   # at line 14 of file <text>"
     ]
    }
   ],
   "source": [
    "same_sign = function(x){\n",
    "    total = sum(x > 0)\n",
    "    if(total ==0 ){\n",
    "        return(TRUE)\n",
    "        \n",
    "    }else if(total==length(x)){\n",
    "        return(TRUE)\n",
    "    }\n",
    "    else{\n",
    "        return(FALSE)\n",
    "    }\n",
    "}\n",
    "get_max_pvals = function(pvals,signs){\n",
    "    max_pvals = apply(pvals,2,max)\n",
    "    max_pvals = max_pvals[order(max_pvals)]\n",
    "    same_signs = apply(signs,2,same_sign)\n",
    "    max_pvals = max_pvals[same_signs]\n",
    "    return(data.frame(max_adj_pvals=max_pvals))\n",
    "}\n",
    "\n",
    "max_pvals_hiv = get_max_pvals(pvals_hiv,signs_hiv)\n",
    "max_pvals_hiv$cell_types = rownames(max_pvals_hiv)\n"
   ]
  },
  {
   "cell_type": "code",
   "execution_count": 26,
   "metadata": {},
   "outputs": [],
   "source": [
    "max_pvals_hiv = readRDS(\"composition/max_pvals_hiv_only_bulb_jan19.rds\")\n",
    "s_obj = subset(comb_zambia,region==\"Bulb\")\n",
    "s_obj$cell_types = s_obj$tier4\n",
    "\n",
    "all_counts = generate_all_counts(s_obj@meta.data)"
   ]
  },
  {
   "cell_type": "code",
   "execution_count": 27,
   "metadata": {},
   "outputs": [],
   "source": [
    "max_pvals_hiv$cell_types[max_pvals_hiv$cell_types==\"T HIV IFN\"] = \"T CD8 IFI44 IFIT1\"\n",
    "max_pvals_hiv$cell_types[max_pvals_hiv$cell_types==\"T CD4 CD69lo\"] = \"T CD4 CD69lo IL17A\""
   ]
  },
  {
   "cell_type": "code",
   "execution_count": 28,
   "metadata": {},
   "outputs": [
    {
     "data": {
      "text/html": [
       "<strong>pdf:</strong> 2"
      ],
      "text/latex": [
       "\\textbf{pdf:} 2"
      ],
      "text/markdown": [
       "**pdf:** 2"
      ],
      "text/plain": [
       "pdf \n",
       "  2 "
      ]
     },
     "metadata": {},
     "output_type": "display_data"
    },
    {
     "data": {
      "text/html": [
       "<strong>pdf:</strong> 2"
      ],
      "text/latex": [
       "\\textbf{pdf:} 2"
      ],
      "text/markdown": [
       "**pdf:** 2"
      ],
      "text/plain": [
       "pdf \n",
       "  2 "
      ]
     },
     "metadata": {},
     "output_type": "display_data"
    }
   ],
   "source": [
    "sig_pvals = max_pvals_hiv %>% filter(max_adj_pvals < 0.05)\n",
    "all_counts$HIV = \"Negative\"\n",
    "all_counts$HIV[all_counts$orig.ident%in%c(\"EE_HIV_1B\",\"EE_HIV_1D\",'EE_HIV_1J',\"EE_HIV_2B\",\"EE_HIV_2D\",\"EE_HIV_3B\",'EE_HIV_3D',\"EE_HIV_3J\")] = \"Positive\"\n",
    "pdf(\"~/zambia_eed_figures/supp_stricture_region_hiv/bulb_x_hiv_jan19.pdf\",useDingbats = F)\n",
    "blah = all_counts %>% filter(cell_types %in% sig_pvals$cell_types) %>% group_by(cell_types) %>% summarize(md=median(percent_of_sample))\n",
    "# blah = blah[order(blah$md,decreasing = T),]\n",
    "# all_counts$cell_types = as.character(all_counts$cell_types)\n",
    "# all_counts$cell_types = factor(all_counts$cell_types,levels=blah$cell_types)\n",
    "ggplot(all_counts %>% filter(cell_types %in% sig_pvals$cell_types),\n",
    "      aes(x=cell_types,y=percent_of_sample,fill=HIV))+\n",
    "    geom_boxplot() +\n",
    " theme_classic() +\n",
    "    theme(text = element_text(size=20),axis.text.x = element_blank(),  panel.border = element_blank(),  \n",
    "  # Remove panel grid lines\n",
    "  panel.grid.major = element_blank(),\n",
    "  panel.grid.minor = element_blank(),\n",
    "  legend.position=\"top\",\n",
    "  # Remove panel background\n",
    "  panel.background = element_blank()) +\n",
    "    ggtitle(\"\") + xlab(\"\") + ylab(\"Fraction of all cells in sample\") +scale_fill_manual(values=hiv_colors) \n",
    "dev.off()\n",
    "\n",
    "pdf(\"~/zambia_eed_figures/supp_stricture_region_hiv/bulb_x_hiv_jan19_xlab.pdf\",useDingbats = F)\n",
    "\n",
    "blah = all_counts %>% filter(cell_types %in% sig_pvals$cell_types) %>% group_by(cell_types) %>% summarize(md=median(percent_of_sample))\n",
    "# blah = blah[order(blah$md,decreasing = T),]\n",
    "# all_counts$cell_types = as.character(all_counts$cell_types)\n",
    "# all_counts$cell_types = factor(all_counts$cell_types,levels=blah$cell_types)\n",
    "ggplot(all_counts %>% filter(cell_types %in% sig_pvals$cell_types),\n",
    "      aes(x=cell_types,y=percent_of_sample,fill=HIV))+\n",
    "    geom_boxplot() +\n",
    " theme_classic() +\n",
    "    theme(text = element_text(size=20),axis.text.x = element_text(angle = 90, hjust = 1),  panel.border = element_blank(),  \n",
    "  # Remove panel grid lines\n",
    "  panel.grid.major = element_blank(),\n",
    "  panel.grid.minor = element_blank(),\n",
    "  legend.position=\"top\",\n",
    "  # Remove panel background\n",
    "  panel.background = element_blank()) +\n",
    "    ggtitle(\"\") + xlab(\"\") + ylab(\"Percentage\") +scale_fill_manual(values=hiv_colors) \n",
    "dev.off()"
   ]
  },
  {
   "cell_type": "code",
   "execution_count": 18,
   "metadata": {},
   "outputs": [
    {
     "data": {
      "text/html": [
       "<table>\n",
       "<caption>A data.frame: 11 × 2</caption>\n",
       "<thead>\n",
       "\t<tr><th></th><th scope=col>max_adj_pvals</th><th scope=col>cell_types</th></tr>\n",
       "\t<tr><th></th><th scope=col>&lt;dbl&gt;</th><th scope=col>&lt;chr&gt;</th></tr>\n",
       "</thead>\n",
       "<tbody>\n",
       "\t<tr><th scope=row>9</th><td>1.358628e-02</td><td>T gamma delta GZMAhi  </td></tr>\n",
       "\t<tr><th scope=row>1</th><td>1.562451e-28</td><td>Plasma cells          </td></tr>\n",
       "\t<tr><th scope=row>6</th><td>1.867119e-03</td><td>Stem OLFM4            </td></tr>\n",
       "\t<tr><th scope=row>4</th><td>1.345684e-05</td><td>T CD8 MALAT1 XIST NKTR</td></tr>\n",
       "\t<tr><th scope=row>2</th><td>8.372422e-12</td><td>T gamma delta CXCR4hi </td></tr>\n",
       "\t<tr><th scope=row>10</th><td>1.572012e-02</td><td>Epi FABP1 CD55        </td></tr>\n",
       "\t<tr><th scope=row>5</th><td>2.998787e-05</td><td>Stem OLFM4 LGR5       </td></tr>\n",
       "\t<tr><th scope=row>7</th><td>2.059813e-03</td><td>T CD4 CD69hi          </td></tr>\n",
       "\t<tr><th scope=row>11</th><td>3.098162e-02</td><td>Monocytes CD16B       </td></tr>\n",
       "\t<tr><th scope=row>8</th><td>4.406012e-03</td><td>Epi FABP1 PTMA        </td></tr>\n",
       "\t<tr><th scope=row>3</th><td>1.933630e-06</td><td>ILC3                  </td></tr>\n",
       "</tbody>\n",
       "</table>\n"
      ],
      "text/latex": [
       "A data.frame: 11 × 2\n",
       "\\begin{tabular}{r|ll}\n",
       "  & max\\_adj\\_pvals & cell\\_types\\\\\n",
       "  & <dbl> & <chr>\\\\\n",
       "\\hline\n",
       "\t9 & 1.358628e-02 & T gamma delta GZMAhi  \\\\\n",
       "\t1 & 1.562451e-28 & Plasma cells          \\\\\n",
       "\t6 & 1.867119e-03 & Stem OLFM4            \\\\\n",
       "\t4 & 1.345684e-05 & T CD8 MALAT1 XIST NKTR\\\\\n",
       "\t2 & 8.372422e-12 & T gamma delta CXCR4hi \\\\\n",
       "\t10 & 1.572012e-02 & Epi FABP1 CD55        \\\\\n",
       "\t5 & 2.998787e-05 & Stem OLFM4 LGR5       \\\\\n",
       "\t7 & 2.059813e-03 & T CD4 CD69hi          \\\\\n",
       "\t11 & 3.098162e-02 & Monocytes CD16B       \\\\\n",
       "\t8 & 4.406012e-03 & Epi FABP1 PTMA        \\\\\n",
       "\t3 & 1.933630e-06 & ILC3                  \\\\\n",
       "\\end{tabular}\n"
      ],
      "text/markdown": [
       "\n",
       "A data.frame: 11 × 2\n",
       "\n",
       "| <!--/--> | max_adj_pvals &lt;dbl&gt; | cell_types &lt;chr&gt; |\n",
       "|---|---|---|\n",
       "| 9 | 1.358628e-02 | T gamma delta GZMAhi   |\n",
       "| 1 | 1.562451e-28 | Plasma cells           |\n",
       "| 6 | 1.867119e-03 | Stem OLFM4             |\n",
       "| 4 | 1.345684e-05 | T CD8 MALAT1 XIST NKTR |\n",
       "| 2 | 8.372422e-12 | T gamma delta CXCR4hi  |\n",
       "| 10 | 1.572012e-02 | Epi FABP1 CD55         |\n",
       "| 5 | 2.998787e-05 | Stem OLFM4 LGR5        |\n",
       "| 7 | 2.059813e-03 | T CD4 CD69hi           |\n",
       "| 11 | 3.098162e-02 | Monocytes CD16B        |\n",
       "| 8 | 4.406012e-03 | Epi FABP1 PTMA         |\n",
       "| 3 | 1.933630e-06 | ILC3                   |\n",
       "\n"
      ],
      "text/plain": [
       "   max_adj_pvals cell_types            \n",
       "9  1.358628e-02  T gamma delta GZMAhi  \n",
       "1  1.562451e-28  Plasma cells          \n",
       "6  1.867119e-03  Stem OLFM4            \n",
       "4  1.345684e-05  T CD8 MALAT1 XIST NKTR\n",
       "2  8.372422e-12  T gamma delta CXCR4hi \n",
       "10 1.572012e-02  Epi FABP1 CD55        \n",
       "5  2.998787e-05  Stem OLFM4 LGR5       \n",
       "7  2.059813e-03  T CD4 CD69hi          \n",
       "11 3.098162e-02  Monocytes CD16B       \n",
       "8  4.406012e-03  Epi FABP1 PTMA        \n",
       "3  1.933630e-06  ILC3                  "
      ]
     },
     "metadata": {},
     "output_type": "display_data"
    }
   ],
   "source": [
    "a = max_pvals_hiv %>% filter(cell_types %in% blah$cell_types)\n",
    "a[order(match(a$cell_types,blah$cell_types)),]"
   ]
  },
  {
   "cell_type": "code",
   "execution_count": null,
   "metadata": {},
   "outputs": [],
   "source": []
  },
  {
   "cell_type": "markdown",
   "metadata": {},
   "source": [
    "# HIV within distal duodenal samples"
   ]
  },
  {
   "cell_type": "code",
   "execution_count": 27,
   "metadata": {},
   "outputs": [
    {
     "name": "stdout",
     "output_type": "stream",
     "text": [
      "[1] 1\n",
      "[1] 2\n",
      "[1] 3\n",
      "[1] 4\n",
      "[1] 5\n",
      "[1] 6\n",
      "[1] 7\n",
      "[1] 8\n",
      "[1] 9\n",
      "[1] 10\n",
      "[1] 11\n"
     ]
    }
   ],
   "source": [
    "Idents(comb_zambia) <- \"tier4\"\n",
    "s_obj = subset(comb_zambia,region==\"Duodenum\")\n",
    "s_obj$cell_types = s_obj$tier4\n",
    "\n",
    "all_counts = generate_all_counts(s_obj@meta.data)\n",
    "\n",
    "sample_all_counts = generate_counts_by_sample(all_counts)\n",
    "sample_meta = generate_sample_meta(s_obj@meta.data)\n",
    "sample_meta = sample_meta[order(sample_meta$orig.ident),]\n",
    "sample_all_counts = cbind(sample_all_counts, HIV.HTLV.=sample_meta$HIV.HTLV)\n",
    "\n",
    "fischer_hiv = run_fischer(s_obj,\"HIV.HTLV.\",\"Y\",s_obj$tier4)\n",
    "pvals_hiv = matrix(rep(1,nrow(sample_all_counts)*length(unique(s_obj$cell_types))),\n",
    "                  nrow=nrow(sample_all_counts),\n",
    "                  ncol=length(unique(s_obj$cell_types)))\n",
    "colnames(pvals_hiv) <- fischer_hiv$clusters\n",
    "signs_hiv = matrix(rep(1,nrow(sample_all_counts)*length(unique(s_obj$cell_types))),\n",
    "                  nrow=nrow(sample_all_counts),\n",
    "                  ncol=length(unique(s_obj$cell_types)))\n",
    "colnames(signs_hiv) <- fischer_hiv$clusters\n",
    "\n",
    "for(i in 1:length(unique(s_obj$orig.ident))){\n",
    "    print(i)\n",
    "    temp = subset(s_obj, orig.ident!=unique(s_obj$orig.ident)[i])\n",
    "    pval_table_hiv = run_fischer(temp,\"HIV.HTLV.\",\"Y\",temp$tier4)\n",
    "    sign_table_hiv = run_fischer(temp,\"HIV.HTLV.\",\"Y\",temp$tier4)\n",
    "    \n",
    "    for(j in 1:nrow(pval_table_hiv)){\n",
    "        pvals_hiv[i,colnames(pvals_hiv)==pval_table_hiv$clusters[j]] = pval_table_hiv$adj_pval[j]\n",
    "        signs_hiv[i,colnames(signs_hiv)==sign_table_hiv$clusters[j]] = sign_table_hiv$sign[j]\n",
    "    }\n",
    "}\n",
    "\n",
    "\n"
   ]
  },
  {
   "cell_type": "code",
   "execution_count": 28,
   "metadata": {},
   "outputs": [],
   "source": [
    "same_sign = function(x){\n",
    "    total = sum(x > 0)\n",
    "    if(total ==0 ){\n",
    "        return(TRUE)\n",
    "        \n",
    "    }else if(total==length(x)){\n",
    "        return(TRUE)\n",
    "    }\n",
    "    else{\n",
    "        return(FALSE)\n",
    "    }\n",
    "}\n",
    "get_max_pvals = function(pvals,signs){\n",
    "    max_pvals = apply(pvals,2,max)\n",
    "    same_signs = apply(signs,2,same_sign)\n",
    "    max_pvals = max_pvals[same_signs]\n",
    "    return(data.frame(max_adj_pvals=max_pvals))\n",
    "}\n",
    "\n",
    "max_pvals_hiv = get_max_pvals(pvals_hiv,signs_hiv)\n",
    "max_pvals_hiv$cell_types = rownames(max_pvals_hiv)\n",
    "saveRDS(max_pvals_hiv,\"composition/max_pvals_hiv_only_duodenum_jan19.rds\")\n"
   ]
  },
  {
   "cell_type": "code",
   "execution_count": 23,
   "metadata": {},
   "outputs": [],
   "source": [
    "max_pvals_hiv = readRDS(\"composition/max_pvals_hiv_only_duodenum_jan19.rds\")\n",
    "s_obj = subset(comb_zambia,region==\"Duodenum\")\n",
    "s_obj$cell_types = s_obj$tier4\n",
    "\n",
    "all_counts = generate_all_counts(s_obj@meta.data)"
   ]
  },
  {
   "cell_type": "code",
   "execution_count": 24,
   "metadata": {},
   "outputs": [],
   "source": [
    "max_pvals_hiv$cell_types[max_pvals_hiv$cell_types==\"T HIV IFN\"] = \"T CD8 IFI44 IFIT1\"\n",
    "max_pvals_hiv$cell_types[max_pvals_hiv$cell_types==\"T CD4 CD69lo\"] = \"T CD4 CD69lo IL17A\""
   ]
  },
  {
   "cell_type": "code",
   "execution_count": 25,
   "metadata": {},
   "outputs": [
    {
     "data": {
      "text/html": [
       "<strong>pdf:</strong> 2"
      ],
      "text/latex": [
       "\\textbf{pdf:} 2"
      ],
      "text/markdown": [
       "**pdf:** 2"
      ],
      "text/plain": [
       "pdf \n",
       "  2 "
      ]
     },
     "metadata": {},
     "output_type": "display_data"
    },
    {
     "data": {
      "text/html": [
       "<strong>pdf:</strong> 2"
      ],
      "text/latex": [
       "\\textbf{pdf:} 2"
      ],
      "text/markdown": [
       "**pdf:** 2"
      ],
      "text/plain": [
       "pdf \n",
       "  2 "
      ]
     },
     "metadata": {},
     "output_type": "display_data"
    }
   ],
   "source": [
    "sig_pvals = max_pvals_hiv %>% filter(max_adj_pvals < 0.05)\n",
    "all_counts$HIV = \"Negative\"\n",
    "all_counts$HIV[all_counts$orig.ident%in%c(\"EE_HIV_1B\",\"EE_HIV_1D\",'EE_HIV_1J',\"EE_HIV_2B\",\"EE_HIV_2D\",\"EE_HIV_3B\",'EE_HIV_3D',\"EE_HIV_3J\")] = \"Positive\"\n",
    "pdf(\"~/zambia_eed_figures/supp_stricture_region_hiv/duodenum_x_hiv_jan19.pdf\",useDingbats = F)\n",
    "blah = all_counts %>% filter(cell_types %in% sig_pvals$cell_types) %>% group_by(cell_types) %>% summarize(md=median(percent_of_sample))\n",
    "# blah = blah[order(blah$md,decreasing = T),]\n",
    "# all_counts$cell_types = as.character(all_counts$cell_types)\n",
    "# all_counts$cell_types = factor(all_counts$cell_types,levels=blah$cell_types)\n",
    "ggplot(all_counts %>% filter(cell_types %in% sig_pvals$cell_types),\n",
    "      aes(x=cell_types,y=percent_of_sample,fill=HIV))+\n",
    "    geom_boxplot() +\n",
    " theme_classic() +\n",
    "    theme(text = element_text(size=20),axis.text.x = element_blank(),  panel.border = element_blank(),  \n",
    "  # Remove panel grid lines\n",
    "  panel.grid.major = element_blank(),\n",
    "  panel.grid.minor = element_blank(),\n",
    "  legend.position=\"top\",\n",
    "  # Remove panel background\n",
    "  panel.background = element_blank()) +\n",
    "    ggtitle(\"\") + xlab(\"\") + ylab(\"Fraction of all cells in sample\") +scale_fill_manual(values=hiv_colors) \n",
    "dev.off()\n",
    "\n",
    "pdf(\"~/zambia_eed_figures/supp_stricture_region_hiv/duodenum_x_hiv_jan19_xlab.pdf\",useDingbats = F)\n",
    "\n",
    "blah = all_counts %>% filter(cell_types %in% sig_pvals$cell_types) %>% group_by(cell_types) %>% summarize(md=median(percent_of_sample))\n",
    "# blah = blah[order(blah$md,decreasing = T),]\n",
    "# all_counts$cell_types = as.character(all_counts$cell_types)\n",
    "# all_counts$cell_types = factor(all_counts$cell_types,levels=blah$cell_types)\n",
    "ggplot(all_counts %>% filter(cell_types %in% sig_pvals$cell_types),\n",
    "      aes(x=cell_types,y=percent_of_sample,fill=HIV))+\n",
    "    geom_boxplot() +\n",
    " theme_classic() +\n",
    "    theme(text = element_text(size=20),axis.text.x = element_text(angle = 90, hjust = 1),  panel.border = element_blank(),  \n",
    "  # Remove panel grid lines\n",
    "  panel.grid.major = element_blank(),\n",
    "  panel.grid.minor = element_blank(),\n",
    "  legend.position=\"top\",\n",
    "  # Remove panel background\n",
    "  panel.background = element_blank()) +\n",
    "    ggtitle(\"\") + xlab(\"\") + ylab(\"Percentage\") +scale_fill_manual(values=hiv_colors) \n",
    "dev.off()"
   ]
  },
  {
   "cell_type": "markdown",
   "metadata": {},
   "source": [
    "# Within jejunum with HIV negative vs positive"
   ]
  },
  {
   "cell_type": "code",
   "execution_count": 30,
   "metadata": {},
   "outputs": [
    {
     "name": "stdout",
     "output_type": "stream",
     "text": [
      "[1] 1\n",
      "[1] 2\n",
      "[1] 3\n",
      "[1] 4\n",
      "[1] 5\n"
     ]
    }
   ],
   "source": [
    "Idents(comb_zambia) <- \"tier4\"\n",
    "s_obj = subset(comb_zambia,region==\"Jejunum\")\n",
    "s_obj$cell_types = s_obj$tier4\n",
    "\n",
    "all_counts = generate_all_counts(s_obj@meta.data)\n",
    "\n",
    "sample_all_counts = generate_counts_by_sample(all_counts)\n",
    "sample_meta = generate_sample_meta(s_obj@meta.data)\n",
    "sample_meta = sample_meta[order(sample_meta$orig.ident),]\n",
    "sample_all_counts = cbind(sample_all_counts, HIV.HTLV.=sample_meta$HIV.HTLV)\n",
    "\n",
    "fischer_hiv = run_fischer(s_obj,\"HIV.HTLV.\",\"Y\",s_obj$tier4)\n",
    "pvals_hiv = matrix(rep(1,nrow(sample_all_counts)*length(unique(s_obj$cell_types))),\n",
    "                  nrow=nrow(sample_all_counts),\n",
    "                  ncol=length(unique(s_obj$cell_types)))\n",
    "colnames(pvals_hiv) <- fischer_hiv$clusters\n",
    "signs_hiv = matrix(rep(1,nrow(sample_all_counts)*length(unique(s_obj$cell_types))),\n",
    "                  nrow=nrow(sample_all_counts),\n",
    "                  ncol=length(unique(s_obj$cell_types)))\n",
    "colnames(signs_hiv) <- fischer_hiv$clusters\n",
    "\n",
    "for(i in 1:length(unique(s_obj$orig.ident))){\n",
    "    print(i)\n",
    "    temp = subset(s_obj, orig.ident!=unique(s_obj$orig.ident)[i])\n",
    "    pval_table_hiv = run_fischer(temp,\"HIV.HTLV.\",\"Y\",temp$tier4)\n",
    "    sign_table_hiv = run_fischer(temp,\"HIV.HTLV.\",\"Y\",temp$tier4)\n",
    "    \n",
    "    for(j in 1:nrow(pval_table_hiv)){\n",
    "        pvals_hiv[i,colnames(pvals_hiv)==pval_table_hiv$clusters[j]] = pval_table_hiv$adj_pval[j]\n",
    "        signs_hiv[i,colnames(signs_hiv)==sign_table_hiv$clusters[j]] = sign_table_hiv$sign[j]\n",
    "    }\n",
    "}\n",
    "\n",
    "\n",
    "\n"
   ]
  },
  {
   "cell_type": "code",
   "execution_count": 31,
   "metadata": {},
   "outputs": [],
   "source": [
    "same_sign = function(x){\n",
    "    total = sum(x > 0)\n",
    "    if(total ==0 ){\n",
    "        return(TRUE)\n",
    "        \n",
    "    }else if(total==length(x)){\n",
    "        return(TRUE)\n",
    "    }\n",
    "    else{\n",
    "        return(FALSE)\n",
    "    }\n",
    "}\n",
    "get_max_pvals = function(pvals,signs){\n",
    "    max_pvals = apply(pvals,2,max)\n",
    "    max_pvals = max_pvals[order(max_pvals)]\n",
    "    same_signs = apply(signs,2,same_sign)\n",
    "    max_pvals = max_pvals[same_signs]\n",
    "    return(data.frame(max_adj_pvals=max_pvals))\n",
    "}\n",
    "\n",
    "max_pvals_hiv = get_max_pvals(pvals_hiv,signs_hiv)\n",
    "max_pvals_hiv$cell_types = rownames(max_pvals_hiv)\n",
    "saveRDS(max_pvals_hiv,\"composition/max_pvals_hiv_only_jejunum_jan19.rds\")\n",
    "\n"
   ]
  },
  {
   "cell_type": "code",
   "execution_count": 29,
   "metadata": {},
   "outputs": [],
   "source": [
    "max_pvals_hiv = readRDS(\"composition/max_pvals_hiv_only_jejunum_jan19.rds\")\n",
    "s_obj = subset(comb_zambia,region==\"Jejunum\")\n",
    "s_obj$cell_types = s_obj$tier4\n",
    "\n",
    "all_counts = generate_all_counts(s_obj@meta.data)"
   ]
  },
  {
   "cell_type": "code",
   "execution_count": 30,
   "metadata": {},
   "outputs": [],
   "source": [
    "max_pvals_hiv$cell_types[max_pvals_hiv$cell_types==\"T HIV IFN\"] = \"T CD8 IFI44 IFIT1\"\n",
    "max_pvals_hiv$cell_types[max_pvals_hiv$cell_types==\"T CD4 CD69lo\"] = \"T CD4 CD69lo IL17A\""
   ]
  },
  {
   "cell_type": "code",
   "execution_count": 31,
   "metadata": {},
   "outputs": [
    {
     "data": {
      "text/html": [
       "<strong>pdf:</strong> 2"
      ],
      "text/latex": [
       "\\textbf{pdf:} 2"
      ],
      "text/markdown": [
       "**pdf:** 2"
      ],
      "text/plain": [
       "pdf \n",
       "  2 "
      ]
     },
     "metadata": {},
     "output_type": "display_data"
    },
    {
     "data": {
      "text/html": [
       "<strong>pdf:</strong> 2"
      ],
      "text/latex": [
       "\\textbf{pdf:} 2"
      ],
      "text/markdown": [
       "**pdf:** 2"
      ],
      "text/plain": [
       "pdf \n",
       "  2 "
      ]
     },
     "metadata": {},
     "output_type": "display_data"
    }
   ],
   "source": [
    "sig_pvals = max_pvals_hiv %>% filter(max_adj_pvals < 0.05)\n",
    "all_counts$HIV = \"Negative\"\n",
    "all_counts$HIV[all_counts$orig.ident%in%c(\"EE_HIV_1B\",\"EE_HIV_1D\",'EE_HIV_1J',\"EE_HIV_2B\",\"EE_HIV_2D\",\"EE_HIV_3B\",'EE_HIV_3D',\"EE_HIV_3J\")] = \"Positive\"\n",
    "pdf(\"~/zambia_eed_figures/supp_stricture_region_hiv/jejunum_x_hiv_jan19.pdf\",useDingbats = F)\n",
    "blah = all_counts %>% filter(cell_types %in% sig_pvals$cell_types) %>% group_by(cell_types) %>% summarize(md=median(percent_of_sample))\n",
    "# blah = blah[order(blah$md,decreasing = T),]\n",
    "# all_counts$cell_types = as.character(all_counts$cell_types)\n",
    "# all_counts$cell_types = factor(all_counts$cell_types,levels=blah$cell_types)\n",
    "ggplot(all_counts %>% filter(cell_types %in% sig_pvals$cell_types),\n",
    "      aes(x=cell_types,y=percent_of_sample,fill=HIV))+\n",
    "    geom_boxplot() +\n",
    " theme_classic() +\n",
    "    theme(text = element_text(size=20),axis.text.x = element_blank(),  panel.border = element_blank(),  \n",
    "  # Remove panel grid lines\n",
    "  panel.grid.major = element_blank(),\n",
    "  panel.grid.minor = element_blank(),\n",
    "  legend.position=\"top\",\n",
    "  # Remove panel background\n",
    "  panel.background = element_blank()) +\n",
    "    ggtitle(\"\") + xlab(\"\") + ylab(\"Fraction of all cells in sample\") +scale_fill_manual(values=hiv_colors) \n",
    "dev.off()\n",
    "\n",
    "pdf(\"~/zambia_eed_figures/supp_stricture_region_hiv/jejunum_x_hiv_jan19_xlab.pdf\",useDingbats = F)\n",
    "\n",
    "blah = all_counts %>% filter(cell_types %in% sig_pvals$cell_types) %>% group_by(cell_types) %>% summarize(md=median(percent_of_sample))\n",
    "# blah = blah[order(blah$md,decreasing = T),]\n",
    "# all_counts$cell_types = as.character(all_counts$cell_types)\n",
    "# all_counts$cell_types = factor(all_counts$cell_types,levels=blah$cell_types)\n",
    "ggplot(all_counts %>% filter(cell_types %in% sig_pvals$cell_types),\n",
    "      aes(x=cell_types,y=percent_of_sample,fill=HIV))+\n",
    "    geom_boxplot() +\n",
    " theme_classic() +\n",
    "    theme(text = element_text(size=20),axis.text.x = element_text(angle = 90, hjust = 1),  panel.border = element_blank(),  \n",
    "  # Remove panel grid lines\n",
    "  panel.grid.major = element_blank(),\n",
    "  panel.grid.minor = element_blank(),\n",
    "  legend.position=\"top\",\n",
    "  # Remove panel background\n",
    "  panel.background = element_blank()) +\n",
    "    ggtitle(\"\") + xlab(\"\") + ylab(\"Percentage\") +scale_fill_manual(values=hiv_colors) \n",
    "dev.off()"
   ]
  },
  {
   "cell_type": "code",
   "execution_count": 25,
   "metadata": {},
   "outputs": [
    {
     "data": {
      "text/html": [
       "<table>\n",
       "<caption>A data.frame: 5 × 2</caption>\n",
       "<thead>\n",
       "\t<tr><th></th><th scope=col>max_adj_pvals</th><th scope=col>cell_types</th></tr>\n",
       "\t<tr><th></th><th scope=col>&lt;dbl&gt;</th><th scope=col>&lt;chr&gt;</th></tr>\n",
       "</thead>\n",
       "<tbody>\n",
       "\t<tr><th scope=row>1</th><td>3.616566e-08</td><td>T CD8 CCL5hi CD6hi  </td></tr>\n",
       "\t<tr><th scope=row>3</th><td>1.639371e-04</td><td>T CD8 CD69hi        </td></tr>\n",
       "\t<tr><th scope=row>4</th><td>8.849168e-04</td><td>Stem OLFM4          </td></tr>\n",
       "\t<tr><th scope=row>2</th><td>1.230825e-04</td><td>T gamma delta GZMAhi</td></tr>\n",
       "\t<tr><th scope=row>5</th><td>1.878373e-02</td><td>BEST4               </td></tr>\n",
       "</tbody>\n",
       "</table>\n"
      ],
      "text/latex": [
       "A data.frame: 5 × 2\n",
       "\\begin{tabular}{r|ll}\n",
       "  & max\\_adj\\_pvals & cell\\_types\\\\\n",
       "  & <dbl> & <chr>\\\\\n",
       "\\hline\n",
       "\t1 & 3.616566e-08 & T CD8 CCL5hi CD6hi  \\\\\n",
       "\t3 & 1.639371e-04 & T CD8 CD69hi        \\\\\n",
       "\t4 & 8.849168e-04 & Stem OLFM4          \\\\\n",
       "\t2 & 1.230825e-04 & T gamma delta GZMAhi\\\\\n",
       "\t5 & 1.878373e-02 & BEST4               \\\\\n",
       "\\end{tabular}\n"
      ],
      "text/markdown": [
       "\n",
       "A data.frame: 5 × 2\n",
       "\n",
       "| <!--/--> | max_adj_pvals &lt;dbl&gt; | cell_types &lt;chr&gt; |\n",
       "|---|---|---|\n",
       "| 1 | 3.616566e-08 | T CD8 CCL5hi CD6hi   |\n",
       "| 3 | 1.639371e-04 | T CD8 CD69hi         |\n",
       "| 4 | 8.849168e-04 | Stem OLFM4           |\n",
       "| 2 | 1.230825e-04 | T gamma delta GZMAhi |\n",
       "| 5 | 1.878373e-02 | BEST4                |\n",
       "\n"
      ],
      "text/plain": [
       "  max_adj_pvals cell_types          \n",
       "1 3.616566e-08  T CD8 CCL5hi CD6hi  \n",
       "3 1.639371e-04  T CD8 CD69hi        \n",
       "4 8.849168e-04  Stem OLFM4          \n",
       "2 1.230825e-04  T gamma delta GZMAhi\n",
       "5 1.878373e-02  BEST4               "
      ]
     },
     "metadata": {},
     "output_type": "display_data"
    }
   ],
   "source": [
    "a = max_pvals_hiv %>% filter(cell_types %in% blah$cell_types)\n",
    "a[order(match(a$cell_types,blah$cell_types)),]"
   ]
  },
  {
   "cell_type": "code",
   "execution_count": null,
   "metadata": {},
   "outputs": [],
   "source": []
  },
  {
   "cell_type": "markdown",
   "metadata": {},
   "source": [
    "# By region within HIV negative patients"
   ]
  },
  {
   "cell_type": "code",
   "execution_count": 9,
   "metadata": {},
   "outputs": [
    {
     "name": "stdout",
     "output_type": "stream",
     "text": [
      "[1] 1\n",
      "[1] 2\n",
      "[1] 3\n",
      "[1] 4\n",
      "[1] 5\n",
      "[1] 6\n",
      "[1] 7\n",
      "[1] 8\n",
      "[1] 9\n",
      "[1] 10\n",
      "[1] 11\n",
      "[1] 12\n",
      "[1] 13\n",
      "[1] 14\n",
      "[1] 15\n",
      "[1] 16\n",
      "[1] 17\n",
      "[1] 18\n",
      "[1] 19\n"
     ]
    }
   ],
   "source": [
    "Idents(comb_zambia) <- \"tier4\"\n",
    "s_obj = subset(comb_zambia,HIV.HTLV.==\"N\")\n",
    "s_obj$cell_types = s_obj$tier4\n",
    "all_counts = generate_all_counts(s_obj@meta.data)\n",
    "\n",
    "sample_all_counts = generate_counts_by_sample(all_counts)\n",
    "sample_meta = generate_sample_meta(s_obj@meta.data)\n",
    "sample_meta = sample_meta[order(sample_meta$orig.ident),]\n",
    "sample_all_counts = cbind(sample_all_counts, region=sample_meta$region)\n",
    "\n",
    "fischer_bulb = run_fischer(s_obj,\"region\",\"Bulb\",s_obj$tier4)\n",
    "fischer_duodenum = run_fischer(s_obj,\"region\",\"Duodenum\",s_obj$tier4)\n",
    "fischer_jejunem = run_fischer(s_obj,\"region\",\"Jejunum\",s_obj$tier4)\n",
    "\n",
    "pvals_bulb = matrix(rep(1,nrow(sample_all_counts)*length(unique(s_obj$cell_types))),\n",
    "                  nrow=nrow(sample_all_counts),\n",
    "                  ncol=length(unique(s_obj$cell_types)))\n",
    "colnames(pvals_bulb) <- fischer_bulb$clusters\n",
    "pvals_duodenum = matrix(rep(1,nrow(sample_all_counts)*length(unique(s_obj$cell_types))),\n",
    "                  nrow=nrow(sample_all_counts),\n",
    "                  ncol=length(unique(s_obj$cell_types)))\n",
    "colnames(pvals_duodenum) <- fischer_duodenum$clusters\n",
    "pvals_jejunem = matrix(rep(1,nrow(sample_all_counts)*length(unique(s_obj$cell_types))),\n",
    "                  nrow=nrow(sample_all_counts),\n",
    "                  ncol=length(unique(s_obj$cell_types)))\n",
    "colnames(pvals_jejunem) <- fischer_jejunem$clusters\n",
    "\n",
    "signs_bulb = matrix(rep(1,nrow(sample_all_counts)*length(unique(s_obj$cell_types))),\n",
    "                  nrow=nrow(sample_all_counts),\n",
    "                  ncol=length(unique(s_obj$cell_types)))\n",
    "colnames(signs_bulb) <- fischer_bulb$clusters\n",
    "signs_duodenum = matrix(rep(1,nrow(sample_all_counts)*length(unique(s_obj$cell_types))),\n",
    "                  nrow=nrow(sample_all_counts),\n",
    "                  ncol=length(unique(s_obj$cell_types)))\n",
    "colnames(signs_duodenum) <- fischer_duodenum$clusters\n",
    "signs_jejunem = matrix(rep(1,nrow(sample_all_counts)*length(unique(s_obj$cell_types))),\n",
    "                  nrow=nrow(sample_all_counts),\n",
    "                  ncol=length(unique(s_obj$cell_types)))\n",
    "colnames(signs_jejunem) <- fischer_jejunem$clusters\n",
    "\n",
    "for(i in 1:length(unique(s_obj$orig.ident))){\n",
    "    print(i)\n",
    "    temp = subset(s_obj, orig.ident!=unique(s_obj$orig.ident)[i])\n",
    "\n",
    "    pval_table_bulb = run_fischer(temp,\"region\",\"Bulb\",temp$tier4)\n",
    "    pval_table_duodenum = run_fischer(temp,\"region\",\"Duodenum\",temp$tier4)\n",
    "    pval_table_jejunem = run_fischer(temp,\"region\",\"Jejunum\",temp$tier4)\n",
    "\n",
    "    sign_table_bulb = run_fischer(temp,\"region\",\"Bulb\",temp$tier4)\n",
    "    sign_table_duodenum = run_fischer(temp,\"region\",\"Duodenum\",temp$tier4)\n",
    "    sign_table_jejunem = run_fischer(temp,\"region\",\"Jejunum\",temp$tier4)\n",
    "\n",
    "    for(j in 1:nrow(pval_table_bulb)){\n",
    "        pvals_bulb[i,colnames(pvals_bulb)==pval_table_bulb$clusters[j]] = pval_table_bulb$adj_pval[j]\n",
    "        pvals_duodenum[i,colnames(pvals_duodenum)==pval_table_duodenum$clusters[j]] = pval_table_duodenum$adj_pval[j]\n",
    "        pvals_jejunem[i,colnames(pvals_jejunem)==pval_table_jejunem$clusters[j]] = pval_table_jejunem$adj_pval[j]\n",
    "\n",
    "        signs_bulb[i,colnames(signs_bulb)==sign_table_bulb$clusters[j]] = sign_table_bulb$sign[j]\n",
    "        signs_duodenum[i,colnames(signs_duodenum)==sign_table_duodenum$clusters[j]] = sign_table_duodenum$sign[j]\n",
    "        signs_jejunem[i,colnames(signs_jejunem)==sign_table_jejunem$clusters[j]] = sign_table_jejunem$sign[j]\n",
    "\n",
    "    }\n",
    "  \n",
    "}"
   ]
  },
  {
   "cell_type": "code",
   "execution_count": 10,
   "metadata": {},
   "outputs": [],
   "source": [
    "same_sign = function(x){\n",
    "    total = sum(x > 0)\n",
    "    if(total ==0 ){\n",
    "        return(TRUE)\n",
    "        \n",
    "    }else if(total==length(x)){\n",
    "        return(TRUE)\n",
    "    }\n",
    "    else{\n",
    "        return(FALSE)\n",
    "    }\n",
    "}\n",
    "get_max_pvals = function(pvals,signs){\n",
    "    max_pvals = apply(pvals,2,max)\n",
    "    same_signs = apply(signs,2,same_sign)\n",
    "    max_pvals = max_pvals[same_signs]\n",
    "    return(data.frame(max_adj_pvals=max_pvals))\n",
    "}\n",
    "\n",
    "max_pvals_bulb = get_max_pvals(pvals_bulb,signs_bulb)\n",
    "max_pvals_bulb$cell_types = rownames(max_pvals_bulb)\n",
    "max_pvals_duodenum = get_max_pvals(pvals_duodenum,signs_duodenum)\n",
    "max_pvals_duodenum$cell_types = rownames(max_pvals_duodenum)\n",
    "max_pvals_jejunum = get_max_pvals(pvals_jejunem,signs_jejunem)\n",
    "max_pvals_jejunum$cell_types = rownames(max_pvals_jejunum)"
   ]
  },
  {
   "cell_type": "code",
   "execution_count": 7,
   "metadata": {},
   "outputs": [],
   "source": [
    "saveRDS(max_pvals_bulb,\"composition/hiv_neg_only_bulb_jan19.rds\")\n",
    "saveRDS(max_pvals_duodenum,\"composition/hiv_neg_only_duodenum_jan19.rds\")\n",
    "saveRDS(max_pvals_jejunum,\"composition/hiv_neg_only_jejunum_jan19.rds\")\n",
    "\n"
   ]
  },
  {
   "cell_type": "code",
   "execution_count": 5,
   "metadata": {},
   "outputs": [],
   "source": [
    "max_pvals_bulb = readRDS(\"composition/hiv_neg_only_bulb_jan19.rds\")\n",
    "max_pvals_duodenum = readRDS(\"composition/hiv_neg_only_duodenum_jan19.rds\")\n",
    "max_pvals_jejunum = readRDS(\"composition/hiv_neg_only_jejunum_jan19.rds\")\n",
    "\n",
    "\n"
   ]
  },
  {
   "cell_type": "code",
   "execution_count": 11,
   "metadata": {},
   "outputs": [],
   "source": [
    "distinct_tier4 = distinct_at(comb_zambia@meta.data,vars(tier1,tier4))"
   ]
  },
  {
   "cell_type": "code",
   "execution_count": 12,
   "metadata": {},
   "outputs": [],
   "source": [
    "max_pvals_bulb$cell_types[max_pvals_bulb$cell_types==\"Ent HIV IFN\"] = \"Ent ISG15 IFI6\"\n",
    "max_pvals_duodenum$cell_types[max_pvals_bulb$duodenum==\"Ent HIV IFN\"] = \"Ent ISG15 IFI6\"\n",
    "max_pvals_jejunum$cell_types[max_pvals_bulb$jejunum==\"Ent HIV IFN\"] = \"Ent ISG15 IFI6\"\n",
    "\n",
    "max_pvals_bulb$cell_types[max_pvals_bulb$cell_types==\"T HIV IFN\"] = \"T CD8 IFI44 IFIT1\"\n",
    "max_pvals_duodenum$cell_types[max_pvals_duodenum$cell_types==\"T HIV IFN\"] = \"T CD8 IFI44 IFIT1\"\n",
    "max_pvals_jejunum$cell_types[max_pvals_jejunum$cell_types==\"T HIV IFN\"] = \"T CD8 IFI44 IFIT1\"\n",
    "\n",
    "max_pvals_bulb$cell_types[max_pvals_bulb$cell_types==\"T CD4 CD69lo\"] = \"T CD4 CD69lo IL17A\"\n",
    "max_pvals_duodenum$cell_types[max_pvals_duodenum$cell_types==\"T CD4 CD69lo\"] = \"T CD4 CD69lo IL17A\"\n",
    "max_pvals_jejunum$cell_types[max_pvals_jejunum$cell_types==\"T CD4 CD69lo\"] = \"T CD4 CD69lo IL17A\""
   ]
  },
  {
   "cell_type": "code",
   "execution_count": 13,
   "metadata": {},
   "outputs": [
    {
     "name": "stderr",
     "output_type": "stream",
     "text": [
      "Joining, by = \"cell_types\"Warning message:\n",
      "“Column `cell_types` joining character vector and factor, coercing into character vector”Joining, by = \"cell_types\"Warning message:\n",
      "“Column `cell_types` joining character vector and factor, coercing into character vector”Joining, by = \"cell_types\"Warning message:\n",
      "“Column `cell_types` joining character vector and factor, coercing into character vector”"
     ]
    }
   ],
   "source": [
    "fischer_jejunum = fischer_jejunem\n",
    "sig_bulb = max_pvals_bulb %>% filter(max_adj_pvals < 0.05)\n",
    "fischer_bulb$cell_types = fischer_bulb$clusters\n",
    "enriched_bulb = left_join(sig_bulb,fischer_bulb) %>% filter(sign==1)\n",
    "\n",
    "sig_duodenum = max_pvals_duodenum %>% filter(max_adj_pvals < 0.05)\n",
    "fischer_duodenum$cell_types = fischer_duodenum$clusters\n",
    "enriched_duodenum = left_join(sig_duodenum,fischer_duodenum) %>% filter(sign==1)\n",
    "\n",
    "sig_jejunum = max_pvals_jejunum %>% filter(max_adj_pvals < 0.05)\n",
    "fischer_jejunum$cell_types = fischer_jejunum$clusters\n",
    "enriched_jejunum = left_join(sig_jejunum,fischer_jejunum) %>% filter(sign==1)\n",
    "\n",
    "get_region = function(orig){\n",
    "    reg = substr(orig,nchar(orig),nchar(orig)+1)\n",
    "    if(reg==\"B\"){\n",
    "        return(\"Bulb\")\n",
    "    }\n",
    "    if(reg==\"D\"){\n",
    "        return(\"Duodenum\")\n",
    "    }\n",
    "    if(reg==\"J\"){\n",
    "        return(\"Jejunum\")\n",
    "    }\n",
    "}\n",
    "regions = sapply(all_counts$orig.ident,get_region)\n",
    "all_counts$region = regions\n",
    "\n",
    "bulb_cells = enriched_bulb$cell_types\n",
    "duodenum_cells = enriched_duodenum$cell_types\n",
    "jejunum_cells = enriched_jejunum$cell_types\n",
    "\n",
    "bulb_cells_unique = bulb_cells[!(bulb_cells %in% c(duodenum_cells,jejunum_cells))]\n",
    "duodenum_cells_unique = duodenum_cells[!(duodenum_cells %in% c(bulb_cells,jejunum_cells))]\n",
    "jejunum_cells_unique = jejunum_cells[!(jejunum_cells %in% c(bulb_cells,duodenum_cells))]"
   ]
  },
  {
   "cell_type": "code",
   "execution_count": 14,
   "metadata": {},
   "outputs": [
    {
     "data": {
      "text/html": [
       "<table>\n",
       "<caption>A data.frame: 7 × 2</caption>\n",
       "<thead>\n",
       "\t<tr><th scope=col>max_adj_pvals</th><th scope=col>cell_types</th></tr>\n",
       "\t<tr><th scope=col>&lt;dbl&gt;</th><th scope=col>&lt;chr&gt;</th></tr>\n",
       "</thead>\n",
       "<tbody>\n",
       "\t<tr><td>4.833588e-02</td><td>Endothelial          </td></tr>\n",
       "\t<tr><td>1.844110e-02</td><td>Epi DPCR1 TFF1       </td></tr>\n",
       "\t<tr><td>1.030953e-05</td><td>Epi FABP1 CD55       </td></tr>\n",
       "\t<tr><td>2.373984e-05</td><td>Epi LYZ TFF2         </td></tr>\n",
       "\t<tr><td>4.744092e-06</td><td>T CD4 CD69lo IL17A   </td></tr>\n",
       "\t<tr><td>1.125749e-07</td><td>T gamma delta CXCR4hi</td></tr>\n",
       "\t<tr><td>1.077651e-04</td><td>T gamma delta GZMAhi </td></tr>\n",
       "</tbody>\n",
       "</table>\n"
      ],
      "text/latex": [
       "A data.frame: 7 × 2\n",
       "\\begin{tabular}{r|ll}\n",
       " max\\_adj\\_pvals & cell\\_types\\\\\n",
       " <dbl> & <chr>\\\\\n",
       "\\hline\n",
       "\t 4.833588e-02 & Endothelial          \\\\\n",
       "\t 1.844110e-02 & Epi DPCR1 TFF1       \\\\\n",
       "\t 1.030953e-05 & Epi FABP1 CD55       \\\\\n",
       "\t 2.373984e-05 & Epi LYZ TFF2         \\\\\n",
       "\t 4.744092e-06 & T CD4 CD69lo IL17A   \\\\\n",
       "\t 1.125749e-07 & T gamma delta CXCR4hi\\\\\n",
       "\t 1.077651e-04 & T gamma delta GZMAhi \\\\\n",
       "\\end{tabular}\n"
      ],
      "text/markdown": [
       "\n",
       "A data.frame: 7 × 2\n",
       "\n",
       "| max_adj_pvals &lt;dbl&gt; | cell_types &lt;chr&gt; |\n",
       "|---|---|\n",
       "| 4.833588e-02 | Endothelial           |\n",
       "| 1.844110e-02 | Epi DPCR1 TFF1        |\n",
       "| 1.030953e-05 | Epi FABP1 CD55        |\n",
       "| 2.373984e-05 | Epi LYZ TFF2          |\n",
       "| 4.744092e-06 | T CD4 CD69lo IL17A    |\n",
       "| 1.125749e-07 | T gamma delta CXCR4hi |\n",
       "| 1.077651e-04 | T gamma delta GZMAhi  |\n",
       "\n"
      ],
      "text/plain": [
       "  max_adj_pvals cell_types           \n",
       "1 4.833588e-02  Endothelial          \n",
       "2 1.844110e-02  Epi DPCR1 TFF1       \n",
       "3 1.030953e-05  Epi FABP1 CD55       \n",
       "4 2.373984e-05  Epi LYZ TFF2         \n",
       "5 4.744092e-06  T CD4 CD69lo IL17A   \n",
       "6 1.125749e-07  T gamma delta CXCR4hi\n",
       "7 1.077651e-04  T gamma delta GZMAhi "
      ]
     },
     "metadata": {},
     "output_type": "display_data"
    }
   ],
   "source": [
    "sig_bulb %>% filter(cell_types%in%bulb_cells_unique)"
   ]
  },
  {
   "cell_type": "code",
   "execution_count": 15,
   "metadata": {},
   "outputs": [
    {
     "data": {
      "text/html": [
       "<table>\n",
       "<caption>A data.frame: 5 × 2</caption>\n",
       "<thead>\n",
       "\t<tr><th scope=col>max_adj_pvals</th><th scope=col>cell_types</th></tr>\n",
       "\t<tr><th scope=col>&lt;dbl&gt;</th><th scope=col>&lt;chr&gt;</th></tr>\n",
       "</thead>\n",
       "<tbody>\n",
       "\t<tr><td>1.162336e-03</td><td>Ent APOA ALPI </td></tr>\n",
       "\t<tr><td>4.723192e-02</td><td>Ent ISG15 IFI6</td></tr>\n",
       "\t<tr><td>2.118611e-07</td><td>Ent SI        </td></tr>\n",
       "\t<tr><td>3.938856e-02</td><td>Goblet        </td></tr>\n",
       "\t<tr><td>1.169468e-06</td><td>Stem OLFM4    </td></tr>\n",
       "</tbody>\n",
       "</table>\n"
      ],
      "text/latex": [
       "A data.frame: 5 × 2\n",
       "\\begin{tabular}{r|ll}\n",
       " max\\_adj\\_pvals & cell\\_types\\\\\n",
       " <dbl> & <chr>\\\\\n",
       "\\hline\n",
       "\t 1.162336e-03 & Ent APOA ALPI \\\\\n",
       "\t 4.723192e-02 & Ent ISG15 IFI6\\\\\n",
       "\t 2.118611e-07 & Ent SI        \\\\\n",
       "\t 3.938856e-02 & Goblet        \\\\\n",
       "\t 1.169468e-06 & Stem OLFM4    \\\\\n",
       "\\end{tabular}\n"
      ],
      "text/markdown": [
       "\n",
       "A data.frame: 5 × 2\n",
       "\n",
       "| max_adj_pvals &lt;dbl&gt; | cell_types &lt;chr&gt; |\n",
       "|---|---|\n",
       "| 1.162336e-03 | Ent APOA ALPI  |\n",
       "| 4.723192e-02 | Ent ISG15 IFI6 |\n",
       "| 2.118611e-07 | Ent SI         |\n",
       "| 3.938856e-02 | Goblet         |\n",
       "| 1.169468e-06 | Stem OLFM4     |\n",
       "\n"
      ],
      "text/plain": [
       "  max_adj_pvals cell_types    \n",
       "1 1.162336e-03  Ent APOA ALPI \n",
       "2 4.723192e-02  Ent ISG15 IFI6\n",
       "3 2.118611e-07  Ent SI        \n",
       "4 3.938856e-02  Goblet        \n",
       "5 1.169468e-06  Stem OLFM4    "
      ]
     },
     "metadata": {},
     "output_type": "display_data"
    }
   ],
   "source": [
    "sig_duodenum %>% filter(cell_types%in%duodenum_cells_unique)"
   ]
  },
  {
   "cell_type": "code",
   "execution_count": 16,
   "metadata": {},
   "outputs": [
    {
     "data": {
      "text/html": [
       "<table>\n",
       "<caption>A data.frame: 0 × 2</caption>\n",
       "<thead>\n",
       "\t<tr><th scope=col>max_adj_pvals</th><th scope=col>cell_types</th></tr>\n",
       "\t<tr><th scope=col>&lt;dbl&gt;</th><th scope=col>&lt;chr&gt;</th></tr>\n",
       "</thead>\n",
       "<tbody>\n",
       "</tbody>\n",
       "</table>\n"
      ],
      "text/latex": [
       "A data.frame: 0 × 2\n",
       "\\begin{tabular}{r|ll}\n",
       " max\\_adj\\_pvals & cell\\_types\\\\\n",
       " <dbl> & <chr>\\\\\n",
       "\\hline\n",
       "\\end{tabular}\n"
      ],
      "text/markdown": [
       "\n",
       "A data.frame: 0 × 2\n",
       "\n",
       "| max_adj_pvals &lt;dbl&gt; | cell_types &lt;chr&gt; |\n",
       "|---|---|\n",
       "\n"
      ],
      "text/plain": [
       "     max_adj_pvals cell_types"
      ]
     },
     "metadata": {},
     "output_type": "display_data"
    }
   ],
   "source": [
    "sig_jejunum%>% filter(cell_types%in%jejunum_cells_unique)"
   ]
  },
  {
   "cell_type": "code",
   "execution_count": 17,
   "metadata": {},
   "outputs": [
    {
     "data": {
      "text/html": [
       "<strong>pdf:</strong> 2"
      ],
      "text/latex": [
       "\\textbf{pdf:} 2"
      ],
      "text/markdown": [
       "**pdf:** 2"
      ],
      "text/plain": [
       "pdf \n",
       "  2 "
      ]
     },
     "metadata": {},
     "output_type": "display_data"
    },
    {
     "data": {
      "text/html": [
       "<strong>pdf:</strong> 2"
      ],
      "text/latex": [
       "\\textbf{pdf:} 2"
      ],
      "text/markdown": [
       "**pdf:** 2"
      ],
      "text/plain": [
       "pdf \n",
       "  2 "
      ]
     },
     "metadata": {},
     "output_type": "display_data"
    },
    {
     "data": {
      "text/html": [
       "<strong>pdf:</strong> 2"
      ],
      "text/latex": [
       "\\textbf{pdf:} 2"
      ],
      "text/markdown": [
       "**pdf:** 2"
      ],
      "text/plain": [
       "pdf \n",
       "  2 "
      ]
     },
     "metadata": {},
     "output_type": "display_data"
    },
    {
     "data": {
      "text/html": [
       "<strong>pdf:</strong> 2"
      ],
      "text/latex": [
       "\\textbf{pdf:} 2"
      ],
      "text/markdown": [
       "**pdf:** 2"
      ],
      "text/plain": [
       "pdf \n",
       "  2 "
      ]
     },
     "metadata": {},
     "output_type": "display_data"
    },
    {
     "data": {
      "text/html": [
       "<strong>pdf:</strong> 2"
      ],
      "text/latex": [
       "\\textbf{pdf:} 2"
      ],
      "text/markdown": [
       "**pdf:** 2"
      ],
      "text/plain": [
       "pdf \n",
       "  2 "
      ]
     },
     "metadata": {},
     "output_type": "display_data"
    },
    {
     "data": {
      "text/html": [
       "<strong>pdf:</strong> 2"
      ],
      "text/latex": [
       "\\textbf{pdf:} 2"
      ],
      "text/markdown": [
       "**pdf:** 2"
      ],
      "text/plain": [
       "pdf \n",
       "  2 "
      ]
     },
     "metadata": {},
     "output_type": "display_data"
    }
   ],
   "source": [
    "pdf(\"~/zambia_eed_figures/supp_stricture_region_hiv/hiv_neg_region_bulb_enriched.pdf\",useDingbats = F,height=6)\n",
    "\n",
    "ggplot(all_counts %>% filter(cell_types %in% bulb_cells_unique),aes(x=cell_types,y=percent_of_sample,fill=region)) + geom_boxplot() +\n",
    "   # geom_dotplot(binaxis='y', stackdir='center', dotsize=0.3,position=position_dodge(0.8)) +\n",
    "    theme_classic() +\n",
    "    theme(text = element_text(size=20),axis.text.x = element_blank(),  panel.border = element_blank(),  \n",
    "  # Remove panel grid lines\n",
    "  panel.grid.major = element_blank(),\n",
    "  panel.grid.minor = element_blank(),\n",
    "  legend.position=\"top\",\n",
    "  # Remove panel background\n",
    "  panel.background = element_blank()) +\n",
    "    ggtitle(\"Duodenal bulb enriched cell types\") + xlab(\"\") + ylab(\"Fraction of all cells in sample\") +scale_fill_manual(values=region_colors) \n",
    "\n",
    "dev.off()\n",
    "\n",
    "pdf(\"~/zambia_eed_figures/supp_stricture_region_hiv/hiv_neg_region_bulb_enrichedxlab.pdf\",useDingbats = F,height=6)\n",
    "\n",
    "ggplot(all_counts %>% filter(cell_types %in% bulb_cells_unique),aes(x=cell_types,y=percent_of_sample,fill=region)) + geom_boxplot() +\n",
    "   # geom_dotplot(binaxis='y', stackdir='center', dotsize=0.3,position=position_dodge(0.8)) +\n",
    "    theme_classic() +\n",
    "    theme(text = element_text(size=20),axis.text.x = element_text(angle = 45, hjust = 1),  panel.border = element_blank(),  \n",
    "  # Remove panel grid lines\n",
    "  panel.grid.major = element_blank(),\n",
    "  panel.grid.minor = element_blank(),\n",
    "  legend.position=\"top\",\n",
    "  # Remove panel background\n",
    "  panel.background = element_blank()) +\n",
    "    ggtitle(\"Duodenal bulb enriched cell types\") + xlab(\"\") + ylab(\"Fraction of all cells in sample\") +scale_fill_manual(values=region_colors) \n",
    "\n",
    "dev.off()\n",
    "\n",
    "pdf(\"~/zambia_eed_figures/supp_stricture_region_hiv/hiv_neg_region_duodenum_enriched.pdf\",useDingbats = F,height=6)\n",
    "\n",
    "ggplot(all_counts %>% filter(cell_types %in% duodenum_cells_unique),aes(x=cell_types,y=percent_of_sample,fill=region)) + geom_boxplot() +\n",
    "   # geom_dotplot(binaxis='y', stackdir='center', dotsize=0.3,position=position_dodge(0.8)) +\n",
    "    theme_classic() +\n",
    "    theme(text = element_text(size=20),axis.text.x = element_blank(),  panel.border = element_blank(),  \n",
    "  # Remove panel grid lines\n",
    "  panel.grid.major = element_blank(),\n",
    "  panel.grid.minor = element_blank(),\n",
    "  legend.position=\"top\",\n",
    "  # Remove panel background\n",
    "  panel.background = element_blank()) +\n",
    "    ggtitle(\"Distal duodenum enriched cell types\") + xlab(\"\") + ylab(\"Fraction of all cells in sample\") +scale_fill_manual(values=region_colors) \n",
    "\n",
    "dev.off()\n",
    "\n",
    "pdf(\"~/zambia_eed_figures/supp_stricture_region_hiv/hiv_neg_region_duodenum_enrichedxlab.pdf\",useDingbats = F,height=6)\n",
    "\n",
    "ggplot(all_counts %>% filter(cell_types %in% duodenum_cells_unique),aes(x=cell_types,y=percent_of_sample,fill=region)) + geom_boxplot() +\n",
    "   # geom_dotplot(binaxis='y', stackdir='center', dotsize=0.3,position=position_dodge(0.8)) +\n",
    "    theme_classic() +\n",
    "    theme(text = element_text(size=20),axis.text.x = element_text(angle = 45, hjust = 1),  panel.border = element_blank(),  \n",
    "  # Remove panel grid lines\n",
    "  panel.grid.major = element_blank(),\n",
    "  panel.grid.minor = element_blank(),\n",
    "  legend.position=\"top\",\n",
    "  # Remove panel background\n",
    "  panel.background = element_blank()) +\n",
    "    ggtitle(\"Distal duodenum enriched cell types\") + xlab(\"\") + ylab(\"Fraction of all cells in sample\") +scale_fill_manual(values=region_colors) \n",
    "\n",
    "dev.off()\n",
    "\n",
    "pdf(\"~/zambia_eed_figures/supp_stricture_region_hiv/hiv_neg_region_jejunum_enriched.pdf\",useDingbats = F,height=6)\n",
    "\n",
    "ggplot(all_counts %>% filter(cell_types %in% jejunum_cells_unique),aes(x=cell_types,y=percent_of_sample,fill=region)) + geom_boxplot() +\n",
    "   # geom_dotplot(binaxis='y', stackdir='center', dotsize=0.3,position=position_dodge(0.8)) +\n",
    "    theme_classic() +\n",
    "    theme(text = element_text(size=20),axis.text.x = element_blank(),  panel.border = element_blank(),  \n",
    "  # Remove panel grid lines\n",
    "  panel.grid.major = element_blank(),\n",
    "  panel.grid.minor = element_blank(),\n",
    "  legend.position=\"top\",\n",
    "  # Remove panel background\n",
    "  panel.background = element_blank()) +\n",
    "    ggtitle(\"Jejunum enriched cell types\") + xlab(\"\") + ylab(\"Fraction of all cells in sample\") +scale_fill_manual(values=region_colors) \n",
    "\n",
    "dev.off()\n",
    "\n",
    "pdf(\"~/zambia_eed_figures/supp_stricture_region_hiv/hiv_neg_region_jejunum_enrichedxlab.pdf\",useDingbats = F,height=6)\n",
    "\n",
    "ggplot(all_counts %>% filter(cell_types %in% jejunum_cells_unique),aes(x=cell_types,y=percent_of_sample,fill=region)) + geom_boxplot() +\n",
    "   # geom_dotplot(binaxis='y', stackdir='center', dotsize=0.3,position=position_dodge(0.8)) +\n",
    "    theme_classic() +\n",
    "    theme(text = element_text(size=20),axis.text.x = element_text(angle = 45, hjust = 1),  panel.border = element_blank(),  \n",
    "  # Remove panel grid lines\n",
    "  panel.grid.major = element_blank(),\n",
    "  panel.grid.minor = element_blank(),\n",
    "  legend.position=\"top\",\n",
    "  # Remove panel background\n",
    "  panel.background = element_blank()) +\n",
    "    ggtitle(\"Jejunum enriched cell types\") + xlab(\"\") + ylab(\"Fraction of all cells in sample\") +scale_fill_manual(values=region_colors) \n",
    "\n",
    "dev.off()"
   ]
  },
  {
   "cell_type": "markdown",
   "metadata": {},
   "source": [
    "# By region within HIV positive patients"
   ]
  },
  {
   "cell_type": "code",
   "execution_count": 32,
   "metadata": {},
   "outputs": [],
   "source": [
    "Idents(comb_zambia) <- \"tier4\"\n",
    "s_obj = subset(comb_zambia,HIV.HTLV.==\"Y\")\n",
    "s_obj$cell_types = s_obj$tier4\n",
    "all_counts = generate_all_counts(s_obj@meta.data)\n",
    "\n",
    "sample_all_counts = generate_counts_by_sample(all_counts)\n",
    "sample_meta = generate_sample_meta(s_obj@meta.data)\n",
    "sample_meta = sample_meta[order(sample_meta$orig.ident),]\n",
    "sample_all_counts = cbind(sample_all_counts, region=sample_meta$region)\n",
    "\n",
    "fischer_bulb = run_fischer(s_obj,\"region\",\"Bulb\",s_obj$tier4)\n",
    "fischer_duodenum = run_fischer(s_obj,\"region\",\"Duodenum\",s_obj$tier4)\n",
    "fischer_jejunem = run_fischer(s_obj,\"region\",\"Jejunum\",s_obj$tier4)\n",
    "\n"
   ]
  },
  {
   "cell_type": "code",
   "execution_count": 33,
   "metadata": {},
   "outputs": [
    {
     "name": "stdout",
     "output_type": "stream",
     "text": [
      "[1] 1\n",
      "[1] 2\n",
      "[1] 3\n",
      "[1] 4\n",
      "[1] 5\n",
      "[1] 6\n",
      "[1] 7\n",
      "[1] 8\n"
     ]
    }
   ],
   "source": [
    "Idents(comb_zambia) <- \"tier4\"\n",
    "s_obj = subset(comb_zambia,HIV.HTLV.==\"Y\")\n",
    "s_obj$cell_types = s_obj$tier4\n",
    "all_counts = generate_all_counts(s_obj@meta.data)\n",
    "\n",
    "sample_all_counts = generate_counts_by_sample(all_counts)\n",
    "sample_meta = generate_sample_meta(s_obj@meta.data)\n",
    "sample_meta = sample_meta[order(sample_meta$orig.ident),]\n",
    "sample_all_counts = cbind(sample_all_counts, region=sample_meta$region)\n",
    "\n",
    "fischer_bulb = run_fischer(s_obj,\"region\",\"Bulb\",s_obj$tier4)\n",
    "fischer_duodenum = run_fischer(s_obj,\"region\",\"Duodenum\",s_obj$tier4)\n",
    "fischer_jejunem = run_fischer(s_obj,\"region\",\"Jejunum\",s_obj$tier4)\n",
    "\n",
    "pvals_bulb = matrix(rep(1,nrow(sample_all_counts)*length(unique(s_obj$cell_types))),\n",
    "                  nrow=nrow(sample_all_counts),\n",
    "                  ncol=length(unique(s_obj$cell_types)))\n",
    "colnames(pvals_bulb) <- fischer_bulb$clusters\n",
    "pvals_duodenum = matrix(rep(1,nrow(sample_all_counts)*length(unique(s_obj$cell_types))),\n",
    "                  nrow=nrow(sample_all_counts),\n",
    "                  ncol=length(unique(s_obj$cell_types)))\n",
    "colnames(pvals_duodenum) <- fischer_duodenum$clusters\n",
    "pvals_jejunem = matrix(rep(1,nrow(sample_all_counts)*length(unique(s_obj$cell_types))),\n",
    "                  nrow=nrow(sample_all_counts),\n",
    "                  ncol=length(unique(s_obj$cell_types)))\n",
    "colnames(pvals_jejunem) <- fischer_jejunem$clusters\n",
    "\n",
    "signs_bulb = matrix(rep(1,nrow(sample_all_counts)*length(unique(s_obj$cell_types))),\n",
    "                  nrow=nrow(sample_all_counts),\n",
    "                  ncol=length(unique(s_obj$cell_types)))\n",
    "colnames(signs_bulb) <- fischer_bulb$clusters\n",
    "signs_duodenum = matrix(rep(1,nrow(sample_all_counts)*length(unique(s_obj$cell_types))),\n",
    "                  nrow=nrow(sample_all_counts),\n",
    "                  ncol=length(unique(s_obj$cell_types)))\n",
    "colnames(signs_duodenum) <- fischer_duodenum$clusters\n",
    "signs_jejunem = matrix(rep(1,nrow(sample_all_counts)*length(unique(s_obj$cell_types))),\n",
    "                  nrow=nrow(sample_all_counts),\n",
    "                  ncol=length(unique(s_obj$cell_types)))\n",
    "colnames(signs_jejunem) <- fischer_jejunem$clusters\n",
    "\n",
    "for(i in 1:length(unique(s_obj$orig.ident))){\n",
    "    print(i)\n",
    "    temp = subset(s_obj, orig.ident!=unique(s_obj$orig.ident)[i])\n",
    "\n",
    "    pval_table_bulb = run_fischer(temp,\"region\",\"Bulb\",temp$tier4)\n",
    "    pval_table_duodenum = run_fischer(temp,\"region\",\"Duodenum\",temp$tier4)\n",
    "    pval_table_jejunem = run_fischer(temp,\"region\",\"Jejunum\",temp$tier4)\n",
    "\n",
    "    sign_table_bulb = run_fischer(temp,\"region\",\"Bulb\",temp$tier4)\n",
    "    sign_table_duodenum = run_fischer(temp,\"region\",\"Duodenum\",temp$tier4)\n",
    "    sign_table_jejunem = run_fischer(temp,\"region\",\"Jejunum\",temp$tier4)\n",
    "\n",
    "    for(j in 1:nrow(pval_table_bulb)){\n",
    "        pvals_bulb[i,colnames(pvals_bulb)==pval_table_bulb$clusters[j]] = pval_table_bulb$adj_pval[j]\n",
    "        pvals_duodenum[i,colnames(pvals_duodenum)==pval_table_duodenum$clusters[j]] = pval_table_duodenum$adj_pval[j]\n",
    "        pvals_jejunem[i,colnames(pvals_jejunem)==pval_table_jejunem$clusters[j]] = pval_table_jejunem$adj_pval[j]\n",
    "\n",
    "        signs_bulb[i,colnames(signs_bulb)==sign_table_bulb$clusters[j]] = sign_table_bulb$sign[j]\n",
    "        signs_duodenum[i,colnames(signs_duodenum)==sign_table_duodenum$clusters[j]] = sign_table_duodenum$sign[j]\n",
    "        signs_jejunem[i,colnames(signs_jejunem)==sign_table_jejunem$clusters[j]] = sign_table_jejunem$sign[j]\n",
    "\n",
    "    }\n",
    "  \n",
    "}"
   ]
  },
  {
   "cell_type": "code",
   "execution_count": 34,
   "metadata": {},
   "outputs": [],
   "source": [
    "same_sign = function(x){\n",
    "    total = sum(x > 0)\n",
    "    if(total ==0 ){\n",
    "        return(TRUE)\n",
    "        \n",
    "    }else if(total==length(x)){\n",
    "        return(TRUE)\n",
    "    }\n",
    "    else{\n",
    "        return(FALSE)\n",
    "    }\n",
    "}\n",
    "get_max_pvals = function(pvals,signs){\n",
    "    max_pvals = apply(pvals,2,max)\n",
    "    same_signs = apply(signs,2,same_sign)\n",
    "    max_pvals = max_pvals[same_signs]\n",
    "    return(data.frame(max_adj_pvals=max_pvals))\n",
    "}\n",
    "\n",
    "max_pvals_bulb = get_max_pvals(pvals_bulb,signs_bulb)\n",
    "max_pvals_bulb$cell_types = rownames(max_pvals_bulb)\n",
    "max_pvals_duodenum = get_max_pvals(pvals_duodenum,signs_duodenum)\n",
    "max_pvals_duodenum$cell_types = rownames(max_pvals_duodenum)\n",
    "max_pvals_jejunum = get_max_pvals(pvals_jejunem,signs_jejunem)\n",
    "max_pvals_jejunum$cell_types = rownames(max_pvals_jejunum)"
   ]
  },
  {
   "cell_type": "code",
   "execution_count": 31,
   "metadata": {},
   "outputs": [],
   "source": []
  },
  {
   "cell_type": "code",
   "execution_count": 32,
   "metadata": {},
   "outputs": [],
   "source": [
    "distinct_tier4 = distinct_at(comb_zambia@meta.data,vars(tier1,tier4))"
   ]
  },
  {
   "cell_type": "code",
   "execution_count": 14,
   "metadata": {},
   "outputs": [],
   "source": [
    "saveRDS(max_pvals_bulb,\"composition/hiv_pos_only_bulb_jan19.rds\")\n",
    "saveRDS(max_pvals_duodenum,\"composition/hiv_pos_only_duodenum_jan19.rds\")\n",
    "saveRDS(max_pvals_jejunum,\"composition/hiv_pos_only_jejunum_jan19.rds\")\n",
    "\n",
    "\n"
   ]
  },
  {
   "cell_type": "code",
   "execution_count": 20,
   "metadata": {},
   "outputs": [],
   "source": [
    "max_pvals_bulb = readRDS(\"composition/hiv_pos_only_bulb_jan19.rds\")\n",
    "max_pvals_duodenum = readRDS(\"composition/hiv_pos_only_duodenum_jan19.rds\")\n",
    "max_pvals_jejunum = readRDS(\"composition/hiv_pos_only_jejunum_jan19.rds\")"
   ]
  },
  {
   "cell_type": "code",
   "execution_count": 35,
   "metadata": {},
   "outputs": [],
   "source": [
    "max_pvals_bulb$cell_types[max_pvals_bulb$cell_types==\"Ent HIV IFN\"] = \"Ent ISG15 IFI6\"\n",
    "max_pvals_duodenum$cell_types[max_pvals_duodenum$cell_types==\"Ent HIV IFN\"] = \"Ent ISG15 IFI6\"\n",
    "max_pvals_jejunum$cell_types[max_pvals_jejunum$cell_types==\"Ent HIV IFN\"] = \"Ent ISG15 IFI6\"\n",
    "\n",
    "max_pvals_bulb$cell_types[max_pvals_bulb$cell_types==\"T HIV IFN\"] = \"T CD8 IFI44 IFIT1\"\n",
    "max_pvals_duodenum$cell_types[max_pvals_duodenum$cell_types==\"T HIV IFN\"] = \"T CD8 IFI44 IFIT1\"\n",
    "max_pvals_jejunum$cell_types[max_pvals_jejunum$cell_types==\"T HIV IFN\"] = \"T CD8 IFI44 IFIT1\"\n",
    "\n",
    "max_pvals_bulb$cell_types[max_pvals_bulb$cell_types==\"T CD4 CD69lo\"] = \"T CD4 CD69lo IL17A\"\n",
    "max_pvals_duodenum$cell_types[max_pvals_duodenum$cell_types==\"T CD4 CD69lo\"] = \"T CD4 CD69lo IL17A\"\n",
    "max_pvals_jejunum$cell_types[max_pvals_jejunum$cell_types==\"T CD4 CD69lo\"] = \"T CD4 CD69lo IL17A\""
   ]
  },
  {
   "cell_type": "code",
   "execution_count": 36,
   "metadata": {},
   "outputs": [
    {
     "name": "stderr",
     "output_type": "stream",
     "text": [
      "Joining, by = \"cell_types\"Warning message:\n",
      "“Column `cell_types` joining character vector and factor, coercing into character vector”Joining, by = \"cell_types\"Warning message:\n",
      "“Column `cell_types` joining character vector and factor, coercing into character vector”Joining, by = \"cell_types\"Warning message:\n",
      "“Column `cell_types` joining character vector and factor, coercing into character vector”"
     ]
    }
   ],
   "source": [
    "fischer_jejunum = fischer_jejunem\n",
    "sig_bulb = max_pvals_bulb %>% filter(max_adj_pvals < 0.05)\n",
    "fischer_bulb$cell_types = fischer_bulb$clusters\n",
    "enriched_bulb = left_join(sig_bulb,fischer_bulb) %>% filter(sign==1)\n",
    "\n",
    "sig_duodenum = max_pvals_duodenum %>% filter(max_adj_pvals < 0.05)\n",
    "fischer_duodenum$cell_types = fischer_duodenum$clusters\n",
    "enriched_duodenum = left_join(sig_duodenum,fischer_duodenum) %>% filter(sign==1)\n",
    "\n",
    "sig_jejunum = max_pvals_jejunum %>% filter(max_adj_pvals < 0.05)\n",
    "fischer_jejunum$cell_types = fischer_jejunum$clusters\n",
    "enriched_jejunum = left_join(sig_jejunum,fischer_jejunum) %>% filter(sign==1)\n",
    "\n",
    "get_region = function(orig){\n",
    "    reg = substr(orig,nchar(orig),nchar(orig)+1)\n",
    "    if(reg==\"B\"){\n",
    "        return(\"Bulb\")\n",
    "    }\n",
    "    if(reg==\"D\"){\n",
    "        return(\"Duodenum\")\n",
    "    }\n",
    "    if(reg==\"J\"){\n",
    "        return(\"Jejunum\")\n",
    "    }\n",
    "}\n",
    "regions = sapply(all_counts$orig.ident,get_region)\n",
    "all_counts$region = regions\n",
    "\n",
    "bulb_cells = enriched_bulb$cell_types\n",
    "duodenum_cells = enriched_duodenum$cell_types\n",
    "jejunum_cells = enriched_jejunum$cell_types\n",
    "\n",
    "bulb_cells_unique = bulb_cells[!(bulb_cells %in% c(duodenum_cells,jejunum_cells))]\n",
    "duodenum_cells_unique = duodenum_cells[!(duodenum_cells %in% c(bulb_cells,jejunum_cells))]\n",
    "jejunum_cells_unique = jejunum_cells[!(jejunum_cells %in% c(bulb_cells,duodenum_cells))]"
   ]
  },
  {
   "cell_type": "code",
   "execution_count": 37,
   "metadata": {},
   "outputs": [
    {
     "data": {
      "text/html": [
       "<table>\n",
       "<caption>A data.frame: 8 × 2</caption>\n",
       "<thead>\n",
       "\t<tr><th scope=col>max_adj_pvals</th><th scope=col>cell_types</th></tr>\n",
       "\t<tr><th scope=col>&lt;dbl&gt;</th><th scope=col>&lt;chr&gt;</th></tr>\n",
       "</thead>\n",
       "<tbody>\n",
       "\t<tr><td>4.378627e-02</td><td>Epi DPCR1 TFF1       </td></tr>\n",
       "\t<tr><td>8.178355e-31</td><td>Epi FABP1 CD55       </td></tr>\n",
       "\t<tr><td>4.378627e-02</td><td>Epi FABP1 PTMA       </td></tr>\n",
       "\t<tr><td>1.759443e-03</td><td>ILC3                 </td></tr>\n",
       "\t<tr><td>1.582102e-04</td><td>Monocytes CD16B      </td></tr>\n",
       "\t<tr><td>3.464477e-02</td><td>T CD4 CD69lo IL17A   </td></tr>\n",
       "\t<tr><td>1.517172e-18</td><td>T gamma delta CXCR4hi</td></tr>\n",
       "\t<tr><td>1.546804e-06</td><td>T gamma delta GZMAhi </td></tr>\n",
       "</tbody>\n",
       "</table>\n"
      ],
      "text/latex": [
       "A data.frame: 8 × 2\n",
       "\\begin{tabular}{r|ll}\n",
       " max\\_adj\\_pvals & cell\\_types\\\\\n",
       " <dbl> & <chr>\\\\\n",
       "\\hline\n",
       "\t 4.378627e-02 & Epi DPCR1 TFF1       \\\\\n",
       "\t 8.178355e-31 & Epi FABP1 CD55       \\\\\n",
       "\t 4.378627e-02 & Epi FABP1 PTMA       \\\\\n",
       "\t 1.759443e-03 & ILC3                 \\\\\n",
       "\t 1.582102e-04 & Monocytes CD16B      \\\\\n",
       "\t 3.464477e-02 & T CD4 CD69lo IL17A   \\\\\n",
       "\t 1.517172e-18 & T gamma delta CXCR4hi\\\\\n",
       "\t 1.546804e-06 & T gamma delta GZMAhi \\\\\n",
       "\\end{tabular}\n"
      ],
      "text/markdown": [
       "\n",
       "A data.frame: 8 × 2\n",
       "\n",
       "| max_adj_pvals &lt;dbl&gt; | cell_types &lt;chr&gt; |\n",
       "|---|---|\n",
       "| 4.378627e-02 | Epi DPCR1 TFF1        |\n",
       "| 8.178355e-31 | Epi FABP1 CD55        |\n",
       "| 4.378627e-02 | Epi FABP1 PTMA        |\n",
       "| 1.759443e-03 | ILC3                  |\n",
       "| 1.582102e-04 | Monocytes CD16B       |\n",
       "| 3.464477e-02 | T CD4 CD69lo IL17A    |\n",
       "| 1.517172e-18 | T gamma delta CXCR4hi |\n",
       "| 1.546804e-06 | T gamma delta GZMAhi  |\n",
       "\n"
      ],
      "text/plain": [
       "  max_adj_pvals cell_types           \n",
       "1 4.378627e-02  Epi DPCR1 TFF1       \n",
       "2 8.178355e-31  Epi FABP1 CD55       \n",
       "3 4.378627e-02  Epi FABP1 PTMA       \n",
       "4 1.759443e-03  ILC3                 \n",
       "5 1.582102e-04  Monocytes CD16B      \n",
       "6 3.464477e-02  T CD4 CD69lo IL17A   \n",
       "7 1.517172e-18  T gamma delta CXCR4hi\n",
       "8 1.546804e-06  T gamma delta GZMAhi "
      ]
     },
     "metadata": {},
     "output_type": "display_data"
    }
   ],
   "source": [
    "sig_bulb %>% filter(cell_types %in%bulb_cells_unique)"
   ]
  },
  {
   "cell_type": "code",
   "execution_count": 38,
   "metadata": {},
   "outputs": [
    {
     "data": {
      "text/html": [
       "<table>\n",
       "<caption>A data.frame: 3 × 2</caption>\n",
       "<thead>\n",
       "\t<tr><th scope=col>max_adj_pvals</th><th scope=col>cell_types</th></tr>\n",
       "\t<tr><th scope=col>&lt;dbl&gt;</th><th scope=col>&lt;chr&gt;</th></tr>\n",
       "</thead>\n",
       "<tbody>\n",
       "\t<tr><td>8.089529e-19</td><td>Ent ISG15 IFI6   </td></tr>\n",
       "\t<tr><td>1.144208e-02</td><td>Stem OLFM4       </td></tr>\n",
       "\t<tr><td>5.631109e-20</td><td>T CD8 IFI44 IFIT1</td></tr>\n",
       "</tbody>\n",
       "</table>\n"
      ],
      "text/latex": [
       "A data.frame: 3 × 2\n",
       "\\begin{tabular}{r|ll}\n",
       " max\\_adj\\_pvals & cell\\_types\\\\\n",
       " <dbl> & <chr>\\\\\n",
       "\\hline\n",
       "\t 8.089529e-19 & Ent ISG15 IFI6   \\\\\n",
       "\t 1.144208e-02 & Stem OLFM4       \\\\\n",
       "\t 5.631109e-20 & T CD8 IFI44 IFIT1\\\\\n",
       "\\end{tabular}\n"
      ],
      "text/markdown": [
       "\n",
       "A data.frame: 3 × 2\n",
       "\n",
       "| max_adj_pvals &lt;dbl&gt; | cell_types &lt;chr&gt; |\n",
       "|---|---|\n",
       "| 8.089529e-19 | Ent ISG15 IFI6    |\n",
       "| 1.144208e-02 | Stem OLFM4        |\n",
       "| 5.631109e-20 | T CD8 IFI44 IFIT1 |\n",
       "\n"
      ],
      "text/plain": [
       "  max_adj_pvals cell_types       \n",
       "1 8.089529e-19  Ent ISG15 IFI6   \n",
       "2 1.144208e-02  Stem OLFM4       \n",
       "3 5.631109e-20  T CD8 IFI44 IFIT1"
      ]
     },
     "metadata": {},
     "output_type": "display_data"
    }
   ],
   "source": [
    "sig_duodenum %>% filter(cell_types %in%duodenum_cells_unique)"
   ]
  },
  {
   "cell_type": "code",
   "execution_count": 39,
   "metadata": {},
   "outputs": [
    {
     "data": {
      "text/html": [
       "<table>\n",
       "<caption>A data.frame: 6 × 2</caption>\n",
       "<thead>\n",
       "\t<tr><th scope=col>max_adj_pvals</th><th scope=col>cell_types</th></tr>\n",
       "\t<tr><th scope=col>&lt;dbl&gt;</th><th scope=col>&lt;chr&gt;</th></tr>\n",
       "</thead>\n",
       "<tbody>\n",
       "\t<tr><td>2.602743e-04</td><td>BEST4                 </td></tr>\n",
       "\t<tr><td>6.470850e-06</td><td>Ent SI                </td></tr>\n",
       "\t<tr><td>1.154437e-14</td><td>Plasma cells          </td></tr>\n",
       "\t<tr><td>1.684237e-03</td><td>Stem cycling          </td></tr>\n",
       "\t<tr><td>1.154437e-14</td><td>T CD8 CCL5hi CD6hi    </td></tr>\n",
       "\t<tr><td>1.453466e-08</td><td>T CD8 MALAT1 XIST NKTR</td></tr>\n",
       "</tbody>\n",
       "</table>\n"
      ],
      "text/latex": [
       "A data.frame: 6 × 2\n",
       "\\begin{tabular}{r|ll}\n",
       " max\\_adj\\_pvals & cell\\_types\\\\\n",
       " <dbl> & <chr>\\\\\n",
       "\\hline\n",
       "\t 2.602743e-04 & BEST4                 \\\\\n",
       "\t 6.470850e-06 & Ent SI                \\\\\n",
       "\t 1.154437e-14 & Plasma cells          \\\\\n",
       "\t 1.684237e-03 & Stem cycling          \\\\\n",
       "\t 1.154437e-14 & T CD8 CCL5hi CD6hi    \\\\\n",
       "\t 1.453466e-08 & T CD8 MALAT1 XIST NKTR\\\\\n",
       "\\end{tabular}\n"
      ],
      "text/markdown": [
       "\n",
       "A data.frame: 6 × 2\n",
       "\n",
       "| max_adj_pvals &lt;dbl&gt; | cell_types &lt;chr&gt; |\n",
       "|---|---|\n",
       "| 2.602743e-04 | BEST4                  |\n",
       "| 6.470850e-06 | Ent SI                 |\n",
       "| 1.154437e-14 | Plasma cells           |\n",
       "| 1.684237e-03 | Stem cycling           |\n",
       "| 1.154437e-14 | T CD8 CCL5hi CD6hi     |\n",
       "| 1.453466e-08 | T CD8 MALAT1 XIST NKTR |\n",
       "\n"
      ],
      "text/plain": [
       "  max_adj_pvals cell_types            \n",
       "1 2.602743e-04  BEST4                 \n",
       "2 6.470850e-06  Ent SI                \n",
       "3 1.154437e-14  Plasma cells          \n",
       "4 1.684237e-03  Stem cycling          \n",
       "5 1.154437e-14  T CD8 CCL5hi CD6hi    \n",
       "6 1.453466e-08  T CD8 MALAT1 XIST NKTR"
      ]
     },
     "metadata": {},
     "output_type": "display_data"
    }
   ],
   "source": [
    "sig_jejunum %>% filter(cell_types %in%jejunum_cells_unique)"
   ]
  },
  {
   "cell_type": "code",
   "execution_count": null,
   "metadata": {},
   "outputs": [],
   "source": []
  },
  {
   "cell_type": "code",
   "execution_count": 40,
   "metadata": {},
   "outputs": [
    {
     "data": {
      "text/html": [
       "<strong>pdf:</strong> 2"
      ],
      "text/latex": [
       "\\textbf{pdf:} 2"
      ],
      "text/markdown": [
       "**pdf:** 2"
      ],
      "text/plain": [
       "pdf \n",
       "  2 "
      ]
     },
     "metadata": {},
     "output_type": "display_data"
    },
    {
     "data": {
      "text/html": [
       "<strong>pdf:</strong> 2"
      ],
      "text/latex": [
       "\\textbf{pdf:} 2"
      ],
      "text/markdown": [
       "**pdf:** 2"
      ],
      "text/plain": [
       "pdf \n",
       "  2 "
      ]
     },
     "metadata": {},
     "output_type": "display_data"
    },
    {
     "data": {
      "text/html": [
       "<strong>pdf:</strong> 2"
      ],
      "text/latex": [
       "\\textbf{pdf:} 2"
      ],
      "text/markdown": [
       "**pdf:** 2"
      ],
      "text/plain": [
       "pdf \n",
       "  2 "
      ]
     },
     "metadata": {},
     "output_type": "display_data"
    },
    {
     "data": {
      "text/html": [
       "<strong>pdf:</strong> 2"
      ],
      "text/latex": [
       "\\textbf{pdf:} 2"
      ],
      "text/markdown": [
       "**pdf:** 2"
      ],
      "text/plain": [
       "pdf \n",
       "  2 "
      ]
     },
     "metadata": {},
     "output_type": "display_data"
    },
    {
     "data": {
      "text/html": [
       "<strong>pdf:</strong> 2"
      ],
      "text/latex": [
       "\\textbf{pdf:} 2"
      ],
      "text/markdown": [
       "**pdf:** 2"
      ],
      "text/plain": [
       "pdf \n",
       "  2 "
      ]
     },
     "metadata": {},
     "output_type": "display_data"
    },
    {
     "data": {
      "text/html": [
       "<strong>pdf:</strong> 2"
      ],
      "text/latex": [
       "\\textbf{pdf:} 2"
      ],
      "text/markdown": [
       "**pdf:** 2"
      ],
      "text/plain": [
       "pdf \n",
       "  2 "
      ]
     },
     "metadata": {},
     "output_type": "display_data"
    }
   ],
   "source": [
    "pdf(\"~/zambia_eed_figures/supp_stricture_region_hiv/hiv_pos_region_bulb_enriched.pdf\",useDingbats = F,height=6)\n",
    "\n",
    "ggplot(all_counts %>% filter(cell_types %in% bulb_cells_unique),aes(x=cell_types,y=percent_of_sample,fill=region)) + geom_boxplot() +\n",
    "   # geom_dotplot(binaxis='y', stackdir='center', dotsize=0.3,position=position_dodge(0.8)) +\n",
    "    theme_classic() +\n",
    "    theme(text = element_text(size=20),axis.text.x = element_blank(),  panel.border = element_blank(),  \n",
    "  # Remove panel grid lines\n",
    "  panel.grid.major = element_blank(),\n",
    "  panel.grid.minor = element_blank(),\n",
    "  legend.position=\"top\",\n",
    "  # Remove panel background\n",
    "  panel.background = element_blank()) +\n",
    "    ggtitle(\"Duodenal bulb enriched cell types\") + xlab(\"\") + ylab(\"Fraction of all cells in sample\") +scale_fill_manual(values=region_colors) \n",
    "\n",
    "dev.off()\n",
    "\n",
    "pdf(\"~/zambia_eed_figures/supp_stricture_region_hiv/hiv_pos_region_bulb_enrichedxlab.pdf\",useDingbats = F,height=6)\n",
    "\n",
    "ggplot(all_counts %>% filter(cell_types %in% bulb_cells_unique),aes(x=cell_types,y=percent_of_sample,fill=region)) + geom_boxplot() +\n",
    "   # geom_dotplot(binaxis='y', stackdir='center', dotsize=0.3,position=position_dodge(0.8)) +\n",
    "    theme_classic() +\n",
    "    theme(text = element_text(size=20),axis.text.x = element_text(angle = 45, hjust = 1),  panel.border = element_blank(),  \n",
    "  # Remove panel grid lines\n",
    "  panel.grid.major = element_blank(),\n",
    "  panel.grid.minor = element_blank(),\n",
    "  legend.position=\"top\",\n",
    "  # Remove panel background\n",
    "  panel.background = element_blank()) +\n",
    "    ggtitle(\"Duodenal bulb enriched cell types\") + xlab(\"\") + ylab(\"Fract\") +scale_fill_manual(values=region_colors) \n",
    "\n",
    "dev.off()\n",
    "\n",
    "pdf(\"~/zambia_eed_figures/supp_stricture_region_hiv/hiv_pos_region_duodenum_enriched.pdf\",useDingbats = F,height=6)\n",
    "\n",
    "ggplot(all_counts %>% filter(cell_types %in% duodenum_cells_unique),aes(x=cell_types,y=percent_of_sample,fill=region)) + geom_boxplot() +\n",
    "   # geom_dotplot(binaxis='y', stackdir='center', dotsize=0.3,position=position_dodge(0.8)) +\n",
    "    theme_classic() +\n",
    "    theme(text = element_text(size=20),axis.text.x = element_blank(),  panel.border = element_blank(),  \n",
    "  # Remove panel grid lines\n",
    "  panel.grid.major = element_blank(),\n",
    "  panel.grid.minor = element_blank(),\n",
    "  legend.position=\"top\",\n",
    "  # Remove panel background\n",
    "  panel.background = element_blank()) +\n",
    "    ggtitle(\"Distal duodenum enriched cell types\") + xlab(\"\") + ylab(\"Fraction of all cells in sample\") +scale_fill_manual(values=region_colors) \n",
    "\n",
    "dev.off()\n",
    "\n",
    "pdf(\"~/zambia_eed_figures/supp_stricture_region_hiv/hiv_pos_region_duodenum_enrichedxlab.pdf\",useDingbats = F,height=6)\n",
    "\n",
    "ggplot(all_counts %>% filter(cell_types %in% duodenum_cells_unique),aes(x=cell_types,y=percent_of_sample,fill=region)) + geom_boxplot() +\n",
    "   # geom_dotplot(binaxis='y', stackdir='center', dotsize=0.3,position=position_dodge(0.8)) +\n",
    "    theme_classic() +\n",
    "    theme(text = element_text(size=20),axis.text.x = element_text(angle = 45, hjust = 1),  panel.border = element_blank(),  \n",
    "  # Remove panel grid lines\n",
    "  panel.grid.major = element_blank(),\n",
    "  panel.grid.minor = element_blank(),\n",
    "  legend.position=\"top\",\n",
    "  # Remove panel background\n",
    "  panel.background = element_blank()) +\n",
    "    ggtitle(\"Distal duodenum enriched cell types\") + xlab(\"\") + ylab(\"Fraction of all cells in sample\") +scale_fill_manual(values=region_colors) \n",
    "\n",
    "dev.off()\n",
    "\n",
    "pdf(\"~/zambia_eed_figures/supp_stricture_region_hiv/hiv_pos_region_jejunum_enriched.pdf\",useDingbats = F,height=6)\n",
    "\n",
    "ggplot(all_counts %>% filter(cell_types %in% jejunum_cells_unique),aes(x=cell_types,y=percent_of_sample,fill=region)) + geom_boxplot() +\n",
    "   # geom_dotplot(binaxis='y', stackdir='center', dotsize=0.3,position=position_dodge(0.8)) +\n",
    "    theme_classic() +\n",
    "    theme(text = element_text(size=20),axis.text.x = element_blank(),  panel.border = element_blank(),  \n",
    "  # Remove panel grid lines\n",
    "  panel.grid.major = element_blank(),\n",
    "  panel.grid.minor = element_blank(),\n",
    "  legend.position=\"top\",\n",
    "  # Remove panel background\n",
    "  panel.background = element_blank()) +\n",
    "    ggtitle(\"Jejunum enriched cell types\") + xlab(\"\") + ylab(\"Fraction of all cells in sample\") +scale_fill_manual(values=region_colors) \n",
    "\n",
    "dev.off()\n",
    "\n",
    "pdf(\"~/zambia_eed_figures/supp_stricture_region_hiv/hiv_pos_region_jejunum_enrichedxlab.pdf\",useDingbats = F,height=6)\n",
    "\n",
    "ggplot(all_counts %>% filter(cell_types %in% jejunum_cells_unique),aes(x=cell_types,y=percent_of_sample,fill=region)) + geom_boxplot() +\n",
    "   # geom_dotplot(binaxis='y', stackdir='center', dotsize=0.3,position=position_dodge(0.8)) +\n",
    "    theme_classic() +\n",
    "    theme(text = element_text(size=20),axis.text.x = element_text(angle = 45, hjust = 1),  panel.border = element_blank(),  \n",
    "  # Remove panel grid lines\n",
    "  panel.grid.major = element_blank(),\n",
    "  panel.grid.minor = element_blank(),\n",
    "  legend.position=\"top\",\n",
    "  # Remove panel background\n",
    "  panel.background = element_blank()) +\n",
    "    ggtitle(\"Jejunum enriched cell types\") + xlab(\"\") + ylab(\"Fr\") +scale_fill_manual(values=region_colors) \n",
    "\n",
    "dev.off()"
   ]
  },
  {
   "cell_type": "code",
   "execution_count": 35,
   "metadata": {},
   "outputs": [
    {
     "name": "stdout",
     "output_type": "stream",
     "text": [
      "[1] \"done\"\n"
     ]
    }
   ],
   "source": [
    "print(\"done\")"
   ]
  },
  {
   "cell_type": "code",
   "execution_count": null,
   "metadata": {},
   "outputs": [],
   "source": []
  }
 ],
 "metadata": {
  "kernelspec": {
   "display_name": "R",
   "language": "R",
   "name": "ir"
  },
  "language_info": {
   "codemirror_mode": "r",
   "file_extension": ".r",
   "mimetype": "text/x-r-source",
   "name": "R",
   "pygments_lexer": "r",
   "version": "3.6.1"
  }
 },
 "nbformat": 4,
 "nbformat_minor": 4
}
